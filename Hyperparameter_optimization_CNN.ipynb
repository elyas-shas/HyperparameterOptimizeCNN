{
 "cells": [
  {
   "cell_type": "markdown",
   "metadata": {
    "_cell_guid": "d4c08f48-fe23-4ddb-ac46-d97f05397514",
    "_uuid": "f2156d1dd26a1243e18512002e10872c5bd7271e",
    "id": "hgTH81T-5Dmr"
   },
   "source": [
    "# Hyperparameter Optimization of CNN Using Optuna\n",
    "\n",
    "Optuna will be used to optimize the hyperparameters of a CNN using Optuna, which is an open-source hyperparameter optimzation package."
   ]
  },
  {
   "cell_type": "code",
   "execution_count": 7,
   "metadata": {
    "executionInfo": {
     "elapsed": 2874,
     "status": "ok",
     "timestamp": 1633026862339,
     "user": {
      "displayName": "Elyas Shaswary",
      "photoUrl": "https://lh3.googleusercontent.com/a-/AOh14Ggct6FjOdLaBZTNZvshmrJlU7aAZVqtx_KNug550g=s64",
      "userId": "06356162520046601702"
     },
     "user_tz": 240
    },
    "id": "P7xQYQHi5Dmx"
   },
   "outputs": [],
   "source": [
    "import os\n",
    "os.environ['PYTHONHASHSEED'] = '0'\n",
    "\n",
    "import numpy as np\n",
    "import tensorflow as tf\n",
    "import random as python_random\n",
    "\n",
    "# The below is necessary for starting Numpy generated random numbers in a well-defined initial state.\n",
    "np.random.seed(123)\n",
    "\n",
    "# The below is necessary for starting core Python generated random numbers in a well-defined state.\n",
    "python_random.seed(123)\n",
    "\n",
    "# The below set_seed() will make random number generation in the TensorFlow backend have a well-defined initial state.\n",
    "# see: # https://www.tensorflow.org/api_docs/python/tf/random/set_seed \n",
    "tf.random.set_seed(1234)"
   ]
  },
  {
   "cell_type": "markdown",
   "metadata": {
    "id": "mVb0dODi-8ic"
   },
   "source": [
    "## Import packages"
   ]
  },
  {
   "cell_type": "code",
   "execution_count": 8,
   "metadata": {
    "_cell_guid": "f67b9393-8ea1-4e23-b856-2ce149cfe421",
    "_execution_state": "idle",
    "_uuid": "72334cb006d02a4bcfc2a2fe622524eba824c6f8",
    "executionInfo": {
     "elapsed": 1856,
     "status": "ok",
     "timestamp": 1633026864192,
     "user": {
      "displayName": "Elyas Shaswary",
      "photoUrl": "https://lh3.googleusercontent.com/a-/AOh14Ggct6FjOdLaBZTNZvshmrJlU7aAZVqtx_KNug550g=s64",
      "userId": "06356162520046601702"
     },
     "user_tz": 240
    },
    "id": "LGIKd2iX5Dmz"
   },
   "outputs": [],
   "source": [
    "import itertools\n",
    "from functools import partial\n",
    "\n",
    "import pandas as pd\n",
    "import matplotlib.pyplot as plt\n",
    "import seaborn as sns\n",
    "\n",
    "from sklearn.model_selection import train_test_split\n",
    "from sklearn.metrics import confusion_matrix\n",
    "\n",
    "from keras.utils.np_utils import to_categorical\n",
    "from keras.models import Sequential, load_model\n",
    "from keras.layers import Dense, Flatten, Conv2D, MaxPool2D\n",
    "from tensorflow.keras.optimizers import Adam, RMSprop\n",
    "\n",
    "import optuna"
   ]
  },
  {
   "cell_type": "markdown",
   "metadata": {
    "_cell_guid": "6d2fb3e6-ab71-4974-b5a2-4af1ebdb99f4",
    "_execution_state": "idle",
    "_uuid": "86061d98eccaa02efe0dab0fa3884e71fcf4c310",
    "id": "ErICCimZ5Dm1"
   },
   "source": [
    "##  Data Preparation\n",
    "\n",
    "The dataset contains information about images, each image is a hand-written digit. The aim is to have the computer predict which digit was written by the person, automatically, by \"looking\" at the image. \n",
    "\n",
    "Each image is 28 pixels in height and 28 pixels in width (28 x 28), making a total of 784 pixels. Each pixel value is an integer between 0 and 255, indicating the darkness in a gray-scale of that pixel.\n",
    "\n",
    "The data is stored in a dataframe where each each pixel is a column (so it is flattened and not in the 28 x 28 format). \n",
    "\n",
    "The data set the has 785 columns. The first column, called \"label\", is the digit that was drawn by the user. The rest of the columns contain the pixel-values of the associated image."
   ]
  },
  {
   "cell_type": "code",
   "execution_count": 9,
   "metadata": {
    "_cell_guid": "5e51d00e-62fd-4141-bf73-50ac4f2da7d0",
    "_execution_state": "idle",
    "_uuid": "84bbd5ab8d7895bd430d5ecfe2f7ddf77baa7b74",
    "colab": {
     "base_uri": "https://localhost:8080/",
     "height": 274
    },
    "executionInfo": {
     "elapsed": 5171,
     "status": "ok",
     "timestamp": 1633026869362,
     "user": {
      "displayName": "Elyas Shaswary",
      "photoUrl": "https://lh3.googleusercontent.com/a-/AOh14Ggct6FjOdLaBZTNZvshmrJlU7aAZVqtx_KNug550g=s64",
      "userId": "06356162520046601702"
     },
     "user_tz": 240
    },
    "id": "nbVJ2S0r5Dm2",
    "outputId": "fb272b2d-1509-463a-ee89-0b069fc12aa5"
   },
   "outputs": [
    {
     "data": {
      "text/html": [
       "<div>\n",
       "<style scoped>\n",
       "    .dataframe tbody tr th:only-of-type {\n",
       "        vertical-align: middle;\n",
       "    }\n",
       "\n",
       "    .dataframe tbody tr th {\n",
       "        vertical-align: top;\n",
       "    }\n",
       "\n",
       "    .dataframe thead th {\n",
       "        text-align: right;\n",
       "    }\n",
       "</style>\n",
       "<table border=\"1\" class=\"dataframe\">\n",
       "  <thead>\n",
       "    <tr style=\"text-align: right;\">\n",
       "      <th></th>\n",
       "      <th>label</th>\n",
       "      <th>pixel0</th>\n",
       "      <th>pixel1</th>\n",
       "      <th>pixel2</th>\n",
       "      <th>pixel3</th>\n",
       "      <th>pixel4</th>\n",
       "      <th>pixel5</th>\n",
       "      <th>pixel6</th>\n",
       "      <th>pixel7</th>\n",
       "      <th>pixel8</th>\n",
       "      <th>...</th>\n",
       "      <th>pixel774</th>\n",
       "      <th>pixel775</th>\n",
       "      <th>pixel776</th>\n",
       "      <th>pixel777</th>\n",
       "      <th>pixel778</th>\n",
       "      <th>pixel779</th>\n",
       "      <th>pixel780</th>\n",
       "      <th>pixel781</th>\n",
       "      <th>pixel782</th>\n",
       "      <th>pixel783</th>\n",
       "    </tr>\n",
       "  </thead>\n",
       "  <tbody>\n",
       "    <tr>\n",
       "      <th>0</th>\n",
       "      <td>1</td>\n",
       "      <td>0</td>\n",
       "      <td>0</td>\n",
       "      <td>0</td>\n",
       "      <td>0</td>\n",
       "      <td>0</td>\n",
       "      <td>0</td>\n",
       "      <td>0</td>\n",
       "      <td>0</td>\n",
       "      <td>0</td>\n",
       "      <td>...</td>\n",
       "      <td>0</td>\n",
       "      <td>0</td>\n",
       "      <td>0</td>\n",
       "      <td>0</td>\n",
       "      <td>0</td>\n",
       "      <td>0</td>\n",
       "      <td>0</td>\n",
       "      <td>0</td>\n",
       "      <td>0</td>\n",
       "      <td>0</td>\n",
       "    </tr>\n",
       "    <tr>\n",
       "      <th>1</th>\n",
       "      <td>0</td>\n",
       "      <td>0</td>\n",
       "      <td>0</td>\n",
       "      <td>0</td>\n",
       "      <td>0</td>\n",
       "      <td>0</td>\n",
       "      <td>0</td>\n",
       "      <td>0</td>\n",
       "      <td>0</td>\n",
       "      <td>0</td>\n",
       "      <td>...</td>\n",
       "      <td>0</td>\n",
       "      <td>0</td>\n",
       "      <td>0</td>\n",
       "      <td>0</td>\n",
       "      <td>0</td>\n",
       "      <td>0</td>\n",
       "      <td>0</td>\n",
       "      <td>0</td>\n",
       "      <td>0</td>\n",
       "      <td>0</td>\n",
       "    </tr>\n",
       "    <tr>\n",
       "      <th>2</th>\n",
       "      <td>1</td>\n",
       "      <td>0</td>\n",
       "      <td>0</td>\n",
       "      <td>0</td>\n",
       "      <td>0</td>\n",
       "      <td>0</td>\n",
       "      <td>0</td>\n",
       "      <td>0</td>\n",
       "      <td>0</td>\n",
       "      <td>0</td>\n",
       "      <td>...</td>\n",
       "      <td>0</td>\n",
       "      <td>0</td>\n",
       "      <td>0</td>\n",
       "      <td>0</td>\n",
       "      <td>0</td>\n",
       "      <td>0</td>\n",
       "      <td>0</td>\n",
       "      <td>0</td>\n",
       "      <td>0</td>\n",
       "      <td>0</td>\n",
       "    </tr>\n",
       "    <tr>\n",
       "      <th>3</th>\n",
       "      <td>4</td>\n",
       "      <td>0</td>\n",
       "      <td>0</td>\n",
       "      <td>0</td>\n",
       "      <td>0</td>\n",
       "      <td>0</td>\n",
       "      <td>0</td>\n",
       "      <td>0</td>\n",
       "      <td>0</td>\n",
       "      <td>0</td>\n",
       "      <td>...</td>\n",
       "      <td>0</td>\n",
       "      <td>0</td>\n",
       "      <td>0</td>\n",
       "      <td>0</td>\n",
       "      <td>0</td>\n",
       "      <td>0</td>\n",
       "      <td>0</td>\n",
       "      <td>0</td>\n",
       "      <td>0</td>\n",
       "      <td>0</td>\n",
       "    </tr>\n",
       "    <tr>\n",
       "      <th>4</th>\n",
       "      <td>0</td>\n",
       "      <td>0</td>\n",
       "      <td>0</td>\n",
       "      <td>0</td>\n",
       "      <td>0</td>\n",
       "      <td>0</td>\n",
       "      <td>0</td>\n",
       "      <td>0</td>\n",
       "      <td>0</td>\n",
       "      <td>0</td>\n",
       "      <td>...</td>\n",
       "      <td>0</td>\n",
       "      <td>0</td>\n",
       "      <td>0</td>\n",
       "      <td>0</td>\n",
       "      <td>0</td>\n",
       "      <td>0</td>\n",
       "      <td>0</td>\n",
       "      <td>0</td>\n",
       "      <td>0</td>\n",
       "      <td>0</td>\n",
       "    </tr>\n",
       "  </tbody>\n",
       "</table>\n",
       "<p>5 rows × 785 columns</p>\n",
       "</div>"
      ],
      "text/plain": [
       "   label  pixel0  pixel1  pixel2  pixel3  pixel4  pixel5  pixel6  pixel7  \\\n",
       "0      1       0       0       0       0       0       0       0       0   \n",
       "1      0       0       0       0       0       0       0       0       0   \n",
       "2      1       0       0       0       0       0       0       0       0   \n",
       "3      4       0       0       0       0       0       0       0       0   \n",
       "4      0       0       0       0       0       0       0       0       0   \n",
       "\n",
       "   pixel8  ...  pixel774  pixel775  pixel776  pixel777  pixel778  pixel779  \\\n",
       "0       0  ...         0         0         0         0         0         0   \n",
       "1       0  ...         0         0         0         0         0         0   \n",
       "2       0  ...         0         0         0         0         0         0   \n",
       "3       0  ...         0         0         0         0         0         0   \n",
       "4       0  ...         0         0         0         0         0         0   \n",
       "\n",
       "   pixel780  pixel781  pixel782  pixel783  \n",
       "0         0         0         0         0  \n",
       "1         0         0         0         0  \n",
       "2         0         0         0         0  \n",
       "3         0         0         0         0  \n",
       "4         0         0         0         0  \n",
       "\n",
       "[5 rows x 785 columns]"
      ]
     },
     "execution_count": 9,
     "metadata": {},
     "output_type": "execute_result"
    }
   ],
   "source": [
    "# Load the data\n",
    "#data = pd.read_csv('/content/drive/MyDrive/datasets/mnist.csv') \n",
    "\n",
    "data = pd.read_csv('mnist.csv') \n",
    "# first column is the target, the rest of the columns are the pixels of the image\n",
    "# each row is 1 image\n",
    "\n",
    "data.head()"
   ]
  },
  {
   "cell_type": "code",
   "execution_count": 10,
   "metadata": {
    "colab": {
     "base_uri": "https://localhost:8080/"
    },
    "executionInfo": {
     "elapsed": 301,
     "status": "ok",
     "timestamp": 1633026869659,
     "user": {
      "displayName": "Elyas Shaswary",
      "photoUrl": "https://lh3.googleusercontent.com/a-/AOh14Ggct6FjOdLaBZTNZvshmrJlU7aAZVqtx_KNug550g=s64",
      "userId": "06356162520046601702"
     },
     "user_tz": 240
    },
    "id": "9Apz96bY5Dm4",
    "outputId": "a1257693-12c4-4af5-918b-d374ff842028"
   },
   "outputs": [
    {
     "data": {
      "text/plain": [
       "((37800, 784), (4200, 784))"
      ]
     },
     "execution_count": 10,
     "metadata": {},
     "output_type": "execute_result"
    }
   ],
   "source": [
    "# split dataset into a train and test set\n",
    "\n",
    "X_train, X_test, y_train, y_test = train_test_split(\n",
    "    data.drop(['label'], axis=1), # the images\n",
    "    data['label'], # the target\n",
    "    test_size = 0.1,\n",
    "    random_state=0)\n",
    "\n",
    "X_train.shape, X_test.shape"
   ]
  },
  {
   "cell_type": "code",
   "execution_count": 11,
   "metadata": {
    "_cell_guid": "86570a36-5c20-460a-9dfd-2070548532a7",
    "_execution_state": "idle",
    "_uuid": "1213b979d5ed3e0d13824d17d694c79d2ece92fa",
    "colab": {
     "base_uri": "https://localhost:8080/",
     "height": 297
    },
    "executionInfo": {
     "elapsed": 354,
     "status": "ok",
     "timestamp": 1633026870008,
     "user": {
      "displayName": "Elyas Shaswary",
      "photoUrl": "https://lh3.googleusercontent.com/a-/AOh14Ggct6FjOdLaBZTNZvshmrJlU7aAZVqtx_KNug550g=s64",
      "userId": "06356162520046601702"
     },
     "user_tz": 240
    },
    "id": "woMmcOQf5Dm5",
    "outputId": "79e01e53-0b3b-4845-8044-2f0394dbe523"
   },
   "outputs": [
    {
     "data": {
      "text/plain": [
       "Text(0, 0.5, 'Number of images')"
      ]
     },
     "execution_count": 11,
     "metadata": {},
     "output_type": "execute_result"
    },
    {
     "data": {
      "image/png": "[encoded data removed]",
      "text/plain": [
       "<Figure size 432x288 with 1 Axes>"
      ]
     },
     "metadata": {
      "needs_background": "light"
     },
     "output_type": "display_data"
    }
   ],
   "source": [
    "# number of images for each digit\n",
    "\n",
    "g = sns.countplot(x=y_train)\n",
    "plt.xlabel('Digits')\n",
    "plt.ylabel('Number of images')"
   ]
  },
  {
   "cell_type": "markdown",
   "metadata": {
    "_cell_guid": "5aea4062-1790-4987-b739-c4bebd79030f",
    "_uuid": "b7b1b1d36243c885e57374c8b60c5a7e10abe922",
    "id": "N9F1zR1r5Dm6"
   },
   "source": [
    "There are roughly the same amount of images for each of the 10 digits."
   ]
  },
  {
   "cell_type": "markdown",
   "metadata": {
    "_cell_guid": "6812040d-80ad-43d2-a571-275f4f20067b",
    "_uuid": "2954681f25f0dcbe986e6914396cdbce61db591f",
    "id": "jOOXY8yl5Dm7"
   },
   "source": [
    "## Image re-scaling\n",
    "\n",
    "We re-scale data for the CNN, between 0 and 1."
   ]
  },
  {
   "cell_type": "code",
   "execution_count": 12,
   "metadata": {
    "_cell_guid": "cdc4340b-6e24-4e12-be99-ac806098ff17",
    "_execution_state": "idle",
    "_uuid": "b5d4f8fcf2a967e2c7d57daedf95aa8c5ab7f8cb",
    "executionInfo": {
     "elapsed": 16,
     "status": "ok",
     "timestamp": 1633026870009,
     "user": {
      "displayName": "Elyas Shaswary",
      "photoUrl": "https://lh3.googleusercontent.com/a-/AOh14Ggct6FjOdLaBZTNZvshmrJlU7aAZVqtx_KNug550g=s64",
      "userId": "06356162520046601702"
     },
     "user_tz": 240
    },
    "id": "QJH_F2tq5Dm7"
   },
   "outputs": [],
   "source": [
    "# Re-scale the data. 255 is the maximum value a pixel can take\n",
    "\n",
    "X_train = X_train / 255\n",
    "X_test = X_test / 255"
   ]
  },
  {
   "cell_type": "markdown",
   "metadata": {
    "_cell_guid": "7413df94-bcb9-4f75-b174-c127d4445766",
    "_uuid": "a66741bf1ac597094f3a3166877008feef27c519",
    "id": "ch64uyjF5Dm8"
   },
   "source": [
    "## Reshape\n",
    "\n",
    "The images were stored in a pandas dataframe as 1-D vectors of 784 values. For a CNN with Keras, we need tensors with the following dimensions: width x height x channel. \n",
    "\n",
    "Thus, we reshape all data to 28 x 28 x 1, 3-D matrices. \n",
    "\n",
    "The 3rd dimension corresponds to the channel. RGB images have 3 channels. MNIST images are in gray-scale, thus they have only one channel in the 3rd dimension."
   ]
  },
  {
   "cell_type": "code",
   "execution_count": 13,
   "metadata": {
    "_cell_guid": "34b6a5f7-8fd2-4387-8ef4-c9dc19584fed",
    "_execution_state": "idle",
    "_uuid": "f0a6ad80dab8e0f2c2e46165ccd9cd82dd162bc3",
    "executionInfo": {
     "elapsed": 16,
     "status": "ok",
     "timestamp": 1633026870010,
     "user": {
      "displayName": "Elyas Shaswary",
      "photoUrl": "https://lh3.googleusercontent.com/a-/AOh14Ggct6FjOdLaBZTNZvshmrJlU7aAZVqtx_KNug550g=s64",
      "userId": "06356162520046601702"
     },
     "user_tz": 240
    },
    "id": "yGqbYPHB5Dm8"
   },
   "outputs": [],
   "source": [
    "# Reshape image in 3 dimensions:\n",
    "# height: 28px X width: 28px X channel: 1 \n",
    "\n",
    "X_train = X_train.values.reshape(-1,28,28,1)\n",
    "X_test = X_test.values.reshape(-1,28,28,1)"
   ]
  },
  {
   "cell_type": "markdown",
   "metadata": {
    "_cell_guid": "bdb422e2-bdec-444f-97a5-283a1e54bf2c",
    "_uuid": "39b7a31e843bac6b705461bcce89da216b91799e",
    "id": "ruZ3MYrL5Dm9"
   },
   "source": [
    "## Target encoding"
   ]
  },
  {
   "cell_type": "code",
   "execution_count": 14,
   "metadata": {
    "colab": {
     "base_uri": "https://localhost:8080/"
    },
    "executionInfo": {
     "elapsed": 15,
     "status": "ok",
     "timestamp": 1633026870010,
     "user": {
      "displayName": "Elyas Shaswary",
      "photoUrl": "https://lh3.googleusercontent.com/a-/AOh14Ggct6FjOdLaBZTNZvshmrJlU7aAZVqtx_KNug550g=s64",
      "userId": "06356162520046601702"
     },
     "user_tz": 240
    },
    "id": "7ST0ThXC5Dm9",
    "outputId": "b45c2ce5-b30b-48ae-8121-76bc47e9eaef"
   },
   "outputs": [
    {
     "data": {
      "text/plain": [
       "array([2, 0, 7, 4, 3, 5, 9, 6, 8, 1], dtype=int64)"
      ]
     },
     "execution_count": 14,
     "metadata": {},
     "output_type": "execute_result"
    }
   ],
   "source": [
    "# the target is 1 variable with the 10 different digits as values\n",
    "\n",
    "y_train.unique()"
   ]
  },
  {
   "cell_type": "code",
   "execution_count": 15,
   "metadata": {
    "_cell_guid": "4b7f3e78-44dc-4561-b1f0-9429ee024cf4",
    "_execution_state": "idle",
    "_uuid": "cabefd1478d5c1bdfe57fd6a34395340916a854c",
    "colab": {
     "base_uri": "https://localhost:8080/"
    },
    "executionInfo": {
     "elapsed": 12,
     "status": "ok",
     "timestamp": 1633026870011,
     "user": {
      "displayName": "Elyas Shaswary",
      "photoUrl": "https://lh3.googleusercontent.com/a-/AOh14Ggct6FjOdLaBZTNZvshmrJlU7aAZVqtx_KNug550g=s64",
      "userId": "06356162520046601702"
     },
     "user_tz": 240
    },
    "id": "rATxSjSs5Dm9",
    "outputId": "a9af3525-f6b5-4bed-f9b1-8ed00ecdf40d"
   },
   "outputs": [
    {
     "data": {
      "text/plain": [
       "array([[0., 0., 1., ..., 0., 0., 0.],\n",
       "       [0., 0., 1., ..., 0., 0., 0.],\n",
       "       [1., 0., 0., ..., 0., 0., 0.],\n",
       "       ...,\n",
       "       [0., 0., 0., ..., 0., 0., 1.],\n",
       "       [1., 0., 0., ..., 0., 0., 0.],\n",
       "       [0., 0., 0., ..., 0., 0., 1.]], dtype=float32)"
      ]
     },
     "execution_count": 15,
     "metadata": {},
     "output_type": "execute_result"
    }
   ],
   "source": [
    "# For Keras, we need to create 10 dummy variables, one for each digit\n",
    "# The labels are one-hot encoded. \n",
    "\n",
    "y_train = to_categorical(y_train, num_classes = 10)\n",
    "y_test = to_categorical(y_test, num_classes = 10)\n",
    "\n",
    "# the new target\n",
    "y_train"
   ]
  },
  {
   "cell_type": "markdown",
   "metadata": {
    "_cell_guid": "adbeacf0-0dc0-4675-b2df-9c9663750f32",
    "_uuid": "60eed15ec5bc0d354385301789ecb8538fc02267",
    "id": "OG5stgIg5Dm-"
   },
   "source": [
    "Print some example images."
   ]
  },
  {
   "cell_type": "code",
   "execution_count": 16,
   "metadata": {
    "_cell_guid": "5f76131b-4ba0-45f1-a98c-bd4e7d561793",
    "_execution_state": "idle",
    "_uuid": "e0dae8943d3d35f075dba3d7ba31bde1d4bf2ff4",
    "colab": {
     "base_uri": "https://localhost:8080/",
     "height": 265
    },
    "executionInfo": {
     "elapsed": 354,
     "status": "ok",
     "timestamp": 1633026870357,
     "user": {
      "displayName": "Elyas Shaswary",
      "photoUrl": "https://lh3.googleusercontent.com/a-/AOh14Ggct6FjOdLaBZTNZvshmrJlU7aAZVqtx_KNug550g=s64",
      "userId": "06356162520046601702"
     },
     "user_tz": 240
    },
    "id": "AD3I7gqQ5Dm-",
    "outputId": "0d0c45b1-8fe7-4c54-c5d0-5df0a2341848"
   },
   "outputs": [
    {
     "data": {
      "image/png": "[encoded data removed]",
      "text/plain": [
       "<Figure size 432x288 with 1 Axes>"
      ]
     },
     "metadata": {
      "needs_background": "light"
     },
     "output_type": "display_data"
    }
   ],
   "source": [
    "# Some image examples \n",
    "g = plt.imshow(X_train[0][:,:,0])"
   ]
  },
  {
   "cell_type": "code",
   "execution_count": 17,
   "metadata": {
    "colab": {
     "base_uri": "https://localhost:8080/",
     "height": 265
    },
    "executionInfo": {
     "elapsed": 163,
     "status": "ok",
     "timestamp": 1633026870518,
     "user": {
      "displayName": "Elyas Shaswary",
      "photoUrl": "https://lh3.googleusercontent.com/a-/AOh14Ggct6FjOdLaBZTNZvshmrJlU7aAZVqtx_KNug550g=s64",
      "userId": "06356162520046601702"
     },
     "user_tz": 240
    },
    "id": "xACHkujc5Dm_",
    "outputId": "d044150b-ad2c-4093-8810-9e2dae25757f"
   },
   "outputs": [
    {
     "data": {
      "image/png": "[encoded data removed]",
      "text/plain": [
       "<Figure size 432x288 with 1 Axes>"
      ]
     },
     "metadata": {
      "needs_background": "light"
     },
     "output_type": "display_data"
    }
   ],
   "source": [
    "# Some image examples \n",
    "g = plt.imshow(X_train[10][:,:,0])"
   ]
  },
  {
   "cell_type": "markdown",
   "metadata": {
    "_cell_guid": "d5265777-aeb3-449d-b171-d88cad74c0a4",
    "_uuid": "5fa18b37a9acd9e098bac1d12264b0dd4310fdd3",
    "id": "IvbzbVU35Dm_"
   },
   "source": [
    "## Define-by-run design\n",
    "\n",
    "We create the CNN and add the sampling space for the hyperparameters as we go. This is the define-by-run concept."
   ]
  },
  {
   "cell_type": "code",
   "execution_count": 18,
   "metadata": {
    "executionInfo": {
     "elapsed": 6,
     "status": "ok",
     "timestamp": 1633026870519,
     "user": {
      "displayName": "Elyas Shaswary",
      "photoUrl": "https://lh3.googleusercontent.com/a-/AOh14Ggct6FjOdLaBZTNZvshmrJlU7aAZVqtx_KNug550g=s64",
      "userId": "06356162520046601702"
     },
     "user_tz": 240
    },
    "id": "a2NoEnsd5Dm_"
   },
   "outputs": [],
   "source": [
    "# Save the model with this name\n",
    "path_best_model = 'cnn_model_2.h5'\n",
    "\n",
    "# starting point for the optimization\n",
    "best_accuracy = 0"
   ]
  },
  {
   "cell_type": "code",
   "execution_count": 19,
   "metadata": {
    "executionInfo": {
     "elapsed": 6,
     "status": "ok",
     "timestamp": 1633026870520,
     "user": {
      "displayName": "Elyas Shaswary",
      "photoUrl": "https://lh3.googleusercontent.com/a-/AOh14Ggct6FjOdLaBZTNZvshmrJlU7aAZVqtx_KNug550g=s64",
      "userId": "06356162520046601702"
     },
     "user_tz": 240
    },
    "id": "kQLf2R4N5DnA"
   },
   "outputs": [],
   "source": [
    "# function to create the CNN\n",
    "\n",
    "def objective(trial):\n",
    "\n",
    "    # Construct a Keras Sequential model.\n",
    "    model = Sequential()\n",
    "\n",
    "    # Convolutional layers.\n",
    "\n",
    "    # Add the different number of conv layers in the following loop:\n",
    "    num_conv_layers = trial.suggest_int('num_conv_layers', 1, 3)\n",
    "\n",
    "    for i in range(num_conv_layers):\n",
    "        \n",
    "        # Note, with this configuration, we sample different filters, kernels\n",
    "        # stride etc, for each convolutional layer that we add\n",
    "\n",
    "        model.add(Conv2D(\n",
    "            filters=trial.suggest_categorical('filters_{}'.format(i), [16, 32, 64]),\n",
    "            kernel_size=trial.suggest_categorical('kernel_size{}'.format(i), [3, 5]),\n",
    "            strides=trial.suggest_categorical('strides{}'.format(i), [1, 2]),\n",
    "            activation=trial.suggest_categorical('activation{}'.format(i), ['relu', 'tanh']),\n",
    "            padding='same',\n",
    "        ))\n",
    "\n",
    "    model.add(MaxPool2D(pool_size=2, strides=2))\n",
    "\n",
    "    # Flatten the 4-rank output of the convolutional layers to 2-rank that can be input to a fully-connected Dense layer.\n",
    "    model.add(Flatten())\n",
    "\n",
    "    # Add fully-connected Dense layers. \n",
    "    # The number of layers is a hyper-parameter we want to optimize.\n",
    "    # We add the different number of layers in the following loop:\n",
    "\n",
    "    num_dense_layers = trial.suggest_int('num_dense_layers', 1, 3)\n",
    "\n",
    "    for i in range(num_dense_layers):\n",
    "\n",
    "        # Add the dense fully-connected layer to the model.\n",
    "        # This has two hyperparameters we want to optimize:\n",
    "        # The number of nodes (neurons) and the activation function.\n",
    "        model.add(Dense(\n",
    "            units=trial.suggest_int('units{}'.format(i), 5, 512),\n",
    "            activation=trial.suggest_categorical('activation{}'.format(i), ['relu', 'tanh']),\n",
    "            ))\n",
    "\n",
    "    # Last fully-connected dense layer with softmax-activation for use in classification.\n",
    "    model.add(Dense(10, activation='softmax'))\n",
    "\n",
    "    # Use the Adam method for training the network.\n",
    "    optimizer_name = trial.suggest_categorical('optimizer_name', ['Adam', 'RMSprop'])\n",
    "\n",
    "    if optimizer_name == 'Adam':\n",
    "        optimizer = Adam(learning_rate=trial.suggest_float('learning_rate',  1e-6, 1e-2))\n",
    "    else:\n",
    "        optimizer = RMSprop(\n",
    "            learning_rate=trial.suggest_float('learning_rate',  1e-6, 1e-2),\n",
    "            momentum=trial.suggest_float('momentum',  0.1, 0.9),\n",
    "        )\n",
    "\n",
    "    # In Keras we need to compile the model so it can be trained.\n",
    "    model.compile(optimizer=optimizer,\n",
    "                  loss='categorical_crossentropy',\n",
    "                  metrics=['accuracy'])\n",
    "\n",
    "    # train the model\n",
    "    # we use 3 epochs to be able to run the notebook in a \"reasonable\" time. \n",
    "    # If we increase the epochs, we will have better performance this could be another parameter to optimize in fact.\n",
    "    history = model.fit(\n",
    "        x=X_train,\n",
    "        y=y_train,\n",
    "        epochs=3,\n",
    "        batch_size=128,\n",
    "        validation_split=0.1,\n",
    "    )\n",
    "\n",
    "    # Get the classification accuracy on the validation-set after the last training-epoch.\n",
    "    accuracy = history.history['val_accuracy'][-1]\n",
    "\n",
    "    # Save the model if it improves on the best-found performance.\n",
    "    # We use the global keyword so we update the variable outside of this function.\n",
    "    global best_accuracy\n",
    "\n",
    "    # If the classification accuracy of the saved model is improved ...\n",
    "    if accuracy > best_accuracy:\n",
    "        # Save the new model to harddisk.\n",
    "        # Training CNNs is costly, so we want to avoid having to re-train the network with the best found parameters. \n",
    "        # We save it instead as we search for the best hyperparameter space.\n",
    "        model.save(path_best_model)\n",
    "\n",
    "        # Update the classification accuracy.\n",
    "        best_accuracy = accuracy\n",
    "\n",
    "    # Delete the Keras model with these hyperparameters from memory.\n",
    "    del model\n",
    "\n",
    "    return accuracy"
   ]
  },
  {
   "cell_type": "code",
   "execution_count": 20,
   "metadata": {
    "executionInfo": {
     "elapsed": 6,
     "status": "ok",
     "timestamp": 1633026870520,
     "user": {
      "displayName": "Elyas Shaswary",
      "photoUrl": "https://lh3.googleusercontent.com/a-/AOh14Ggct6FjOdLaBZTNZvshmrJlU7aAZVqtx_KNug550g=s64",
      "userId": "06356162520046601702"
     },
     "user_tz": 240
    },
    "id": "0gwkMPuw5DnB"
   },
   "outputs": [],
   "source": [
    "# we can store the search\n",
    "\n",
    "study_name = \"cnn_study_2\"  # unique identifier of the study.\n",
    "storage_name = \"sqlite:///{}.db\".format(study_name)"
   ]
  },
  {
   "cell_type": "code",
   "execution_count": 21,
   "metadata": {
    "colab": {
     "base_uri": "https://localhost:8080/"
    },
    "executionInfo": {
     "elapsed": 18432551,
     "status": "ok",
     "timestamp": 1633045303065,
     "user": {
      "displayName": "Elyas Shaswary",
      "photoUrl": "https://lh3.googleusercontent.com/a-/AOh14Ggct6FjOdLaBZTNZvshmrJlU7aAZVqtx_KNug550g=s64",
      "userId": "06356162520046601702"
     },
     "user_tz": 240
    },
    "id": "FfYXRldB5DnB",
    "outputId": "6da9b57a-a687-49d4-ead6-737bc897d354",
    "scrolled": true
   },
   "outputs": [
    {
     "name": "stderr",
     "output_type": "stream",
     "text": [
      "\u001b[32m[I 2021-10-01 10:49:50,580]\u001b[0m A new study created in RDB with name: cnn_study_2\u001b[0m\n"
     ]
    },
    {
     "name": "stdout",
     "output_type": "stream",
     "text": [
      "Epoch 1/3\n",
      "266/266 [==============================] - 64s 239ms/step - loss: 0.5992 - accuracy: 0.8921 - val_loss: 0.1420 - val_accuracy: 0.9571\n",
      "Epoch 2/3\n",
      "266/266 [==============================] - 64s 241ms/step - loss: 0.0803 - accuracy: 0.9772 - val_loss: 0.0730 - val_accuracy: 0.9810\n",
      "Epoch 3/3\n",
      "266/266 [==============================] - 64s 240ms/step - loss: 0.0540 - accuracy: 0.9845 - val_loss: 0.1583 - val_accuracy: 0.9683\n"
     ]
    },
    {
     "name": "stderr",
     "output_type": "stream",
     "text": [
      "\u001b[32m[I 2021-10-01 10:53:03,376]\u001b[0m Trial 0 finished with value: 0.9682539701461792 and parameters: {'num_conv_layers': 2, 'filters_0': 64, 'kernel_size0': 3, 'strides0': 1, 'activation0': 'relu', 'filters_1': 16, 'kernel_size1': 3, 'strides1': 1, 'activation1': 'tanh', 'num_dense_layers': 1, 'units0': 129, 'optimizer_name': 'RMSprop', 'learning_rate': 0.008050775049992024, 'momentum': 0.1998689683633833}. Best is trial 0 with value: 0.9682539701461792.\u001b[0m\n"
     ]
    },
    {
     "name": "stdout",
     "output_type": "stream",
     "text": [
      "Epoch 1/3\n",
      "266/266 [==============================] - 4s 13ms/step - loss: 0.2690 - accuracy: 0.9151 - val_loss: 0.1602 - val_accuracy: 0.9519\n",
      "Epoch 2/3\n",
      "266/266 [==============================] - 3s 13ms/step - loss: 0.1211 - accuracy: 0.9623 - val_loss: 0.1574 - val_accuracy: 0.9524\n",
      "Epoch 3/3\n",
      "266/266 [==============================] - 3s 13ms/step - loss: 0.0936 - accuracy: 0.9705 - val_loss: 0.1318 - val_accuracy: 0.9638\n"
     ]
    },
    {
     "name": "stderr",
     "output_type": "stream",
     "text": [
      "\u001b[32m[I 2021-10-01 10:53:14,625]\u001b[0m Trial 1 finished with value: 0.9637566208839417 and parameters: {'num_conv_layers': 1, 'filters_0': 16, 'kernel_size0': 3, 'strides0': 2, 'activation0': 'tanh', 'num_dense_layers': 2, 'units0': 356, 'units1': 374, 'activation1': 'tanh', 'optimizer_name': 'Adam', 'learning_rate': 0.0031696604285122655}. Best is trial 0 with value: 0.9682539701461792.\u001b[0m\n"
     ]
    },
    {
     "name": "stdout",
     "output_type": "stream",
     "text": [
      "Epoch 1/3\n",
      "266/266 [==============================] - 5s 15ms/step - loss: 0.3640 - accuracy: 0.8848 - val_loss: 0.1960 - val_accuracy: 0.9405\n",
      "Epoch 2/3\n",
      "266/266 [==============================] - 4s 14ms/step - loss: 0.2022 - accuracy: 0.9407 - val_loss: 0.2034 - val_accuracy: 0.9386\n",
      "Epoch 3/3\n",
      "266/266 [==============================] - 4s 14ms/step - loss: 0.1647 - accuracy: 0.9541 - val_loss: 0.1812 - val_accuracy: 0.9526\n"
     ]
    },
    {
     "name": "stderr",
     "output_type": "stream",
     "text": [
      "\u001b[32m[I 2021-10-01 10:53:27,287]\u001b[0m Trial 2 finished with value: 0.952645480632782 and parameters: {'num_conv_layers': 2, 'filters_0': 16, 'kernel_size0': 3, 'strides0': 2, 'activation0': 'tanh', 'filters_1': 32, 'kernel_size1': 3, 'strides1': 2, 'activation1': 'relu', 'num_dense_layers': 3, 'units0': 446, 'units1': 113, 'units2': 255, 'activation2': 'tanh', 'optimizer_name': 'Adam', 'learning_rate': 0.008661024735857826}. Best is trial 0 with value: 0.9682539701461792.\u001b[0m\n"
     ]
    },
    {
     "name": "stdout",
     "output_type": "stream",
     "text": [
      "Epoch 1/3\n",
      "266/266 [==============================] - 5s 16ms/step - loss: 2.0492 - accuracy: 0.5041 - val_loss: 1.7714 - val_accuracy: 0.7402\n",
      "Epoch 2/3\n",
      "266/266 [==============================] - 4s 15ms/step - loss: 1.4612 - accuracy: 0.7919 - val_loss: 1.1874 - val_accuracy: 0.8011\n",
      "Epoch 3/3\n",
      "266/266 [==============================] - 4s 16ms/step - loss: 0.9573 - accuracy: 0.8224 - val_loss: 0.7969 - val_accuracy: 0.8267\n"
     ]
    },
    {
     "name": "stderr",
     "output_type": "stream",
     "text": [
      "\u001b[32m[I 2021-10-01 10:53:40,646]\u001b[0m Trial 3 finished with value: 0.8267195820808411 and parameters: {'num_conv_layers': 1, 'filters_0': 32, 'kernel_size0': 3, 'strides0': 2, 'activation0': 'relu', 'num_dense_layers': 1, 'units0': 283, 'optimizer_name': 'RMSprop', 'learning_rate': 2.047561391306084e-05, 'momentum': 0.28193204821673945}. Best is trial 0 with value: 0.9682539701461792.\u001b[0m\n"
     ]
    },
    {
     "name": "stdout",
     "output_type": "stream",
     "text": [
      "Epoch 1/3\n",
      "266/266 [==============================] - 22s 80ms/step - loss: 0.1983 - accuracy: 0.9391 - val_loss: 0.1242 - val_accuracy: 0.9601\n",
      "Epoch 2/3\n",
      "266/266 [==============================] - 21s 79ms/step - loss: 0.1049 - accuracy: 0.9698 - val_loss: 0.1428 - val_accuracy: 0.9537\n",
      "Epoch 3/3\n",
      "266/266 [==============================] - 22s 82ms/step - loss: 0.1001 - accuracy: 0.9703 - val_loss: 0.1300 - val_accuracy: 0.9646\n"
     ]
    },
    {
     "name": "stderr",
     "output_type": "stream",
     "text": [
      "\u001b[32m[I 2021-10-01 10:54:45,944]\u001b[0m Trial 4 finished with value: 0.964550256729126 and parameters: {'num_conv_layers': 2, 'filters_0': 16, 'kernel_size0': 5, 'strides0': 1, 'activation0': 'tanh', 'filters_1': 16, 'kernel_size1': 3, 'strides1': 1, 'activation1': 'relu', 'num_dense_layers': 2, 'units0': 50, 'units1': 413, 'optimizer_name': 'Adam', 'learning_rate': 0.0074885919554709855}. Best is trial 0 with value: 0.9682539701461792.\u001b[0m\n"
     ]
    },
    {
     "name": "stdout",
     "output_type": "stream",
     "text": [
      "Epoch 1/3\n",
      "266/266 [==============================] - 31s 114ms/step - loss: 0.2487 - accuracy: 0.9227 - val_loss: 0.0921 - val_accuracy: 0.9749\n",
      "Epoch 2/3\n",
      "266/266 [==============================] - 32s 122ms/step - loss: 0.0940 - accuracy: 0.9740 - val_loss: 0.0782 - val_accuracy: 0.9786\n",
      "Epoch 3/3\n",
      "266/266 [==============================] - 32s 121ms/step - loss: 0.0689 - accuracy: 0.9810 - val_loss: 0.0783 - val_accuracy: 0.9754\n"
     ]
    },
    {
     "name": "stderr",
     "output_type": "stream",
     "text": [
      "\u001b[32m[I 2021-10-01 10:56:22,306]\u001b[0m Trial 5 finished with value: 0.9753968119621277 and parameters: {'num_conv_layers': 3, 'filters_0': 16, 'kernel_size0': 3, 'strides0': 2, 'activation0': 'relu', 'filters_1': 64, 'kernel_size1': 3, 'strides1': 1, 'activation1': 'tanh', 'filters_2': 32, 'kernel_size2': 3, 'strides2': 1, 'activation2': 'tanh', 'num_dense_layers': 3, 'units0': 142, 'units1': 463, 'units2': 261, 'optimizer_name': 'Adam', 'learning_rate': 0.005692943362064166}. Best is trial 5 with value: 0.9753968119621277.\u001b[0m\n"
     ]
    },
    {
     "name": "stdout",
     "output_type": "stream",
     "text": [
      "Epoch 1/3\n",
      "266/266 [==============================] - 11s 41ms/step - loss: 0.4763 - accuracy: 0.8652 - val_loss: 0.2880 - val_accuracy: 0.9296\n",
      "Epoch 2/3\n",
      "266/266 [==============================] - 11s 41ms/step - loss: 0.2956 - accuracy: 0.9293 - val_loss: 0.2624 - val_accuracy: 0.9370\n",
      "Epoch 3/3\n",
      "266/266 [==============================] - 10s 39ms/step - loss: 0.3288 - accuracy: 0.9212 - val_loss: 0.3618 - val_accuracy: 0.9164\n"
     ]
    },
    {
     "name": "stderr",
     "output_type": "stream",
     "text": [
      "\u001b[32m[I 2021-10-01 10:56:55,833]\u001b[0m Trial 6 finished with value: 0.9164021015167236 and parameters: {'num_conv_layers': 3, 'filters_0': 64, 'kernel_size0': 3, 'strides0': 2, 'activation0': 'tanh', 'filters_1': 32, 'kernel_size1': 3, 'strides1': 2, 'activation1': 'relu', 'filters_2': 16, 'kernel_size2': 5, 'strides2': 2, 'activation2': 'relu', 'num_dense_layers': 1, 'units0': 395, 'optimizer_name': 'RMSprop', 'learning_rate': 0.003935294702252308, 'momentum': 0.7908105032334592}. Best is trial 5 with value: 0.9753968119621277.\u001b[0m\n"
     ]
    },
    {
     "name": "stdout",
     "output_type": "stream",
     "text": [
      "Epoch 1/3\n",
      "266/266 [==============================] - 63s 234ms/step - loss: 0.1621 - accuracy: 0.9483 - val_loss: 0.0892 - val_accuracy: 0.9722\n",
      "Epoch 2/3\n",
      "266/266 [==============================] - 58s 218ms/step - loss: 0.0490 - accuracy: 0.9839 - val_loss: 0.0794 - val_accuracy: 0.9796\n",
      "Epoch 3/3\n",
      "266/266 [==============================] - 58s 218ms/step - loss: 0.0387 - accuracy: 0.9875 - val_loss: 0.0885 - val_accuracy: 0.9765\n"
     ]
    },
    {
     "name": "stderr",
     "output_type": "stream",
     "text": [
      "\u001b[32m[I 2021-10-01 10:59:55,124]\u001b[0m Trial 7 finished with value: 0.97645503282547 and parameters: {'num_conv_layers': 3, 'filters_0': 16, 'kernel_size0': 3, 'strides0': 1, 'activation0': 'relu', 'filters_1': 64, 'kernel_size1': 3, 'strides1': 1, 'activation1': 'tanh', 'filters_2': 32, 'kernel_size2': 3, 'strides2': 2, 'activation2': 'tanh', 'num_dense_layers': 1, 'units0': 483, 'optimizer_name': 'Adam', 'learning_rate': 0.0028922583897444585}. Best is trial 7 with value: 0.97645503282547.\u001b[0m\n"
     ]
    },
    {
     "name": "stdout",
     "output_type": "stream",
     "text": [
      "Epoch 1/3\n",
      "266/266 [==============================] - 5s 19ms/step - loss: 0.3547 - accuracy: 0.8919 - val_loss: 0.1649 - val_accuracy: 0.9492\n",
      "Epoch 2/3\n",
      "266/266 [==============================] - 5s 18ms/step - loss: 0.1534 - accuracy: 0.9542 - val_loss: 0.2026 - val_accuracy: 0.9447\n",
      "Epoch 3/3\n",
      "266/266 [==============================] - 5s 18ms/step - loss: 0.1301 - accuracy: 0.9623 - val_loss: 0.1504 - val_accuracy: 0.9603\n"
     ]
    },
    {
     "name": "stderr",
     "output_type": "stream",
     "text": [
      "\u001b[32m[I 2021-10-01 11:00:10,758]\u001b[0m Trial 8 finished with value: 0.9603174328804016 and parameters: {'num_conv_layers': 2, 'filters_0': 32, 'kernel_size0': 5, 'strides0': 2, 'activation0': 'tanh', 'filters_1': 16, 'kernel_size1': 3, 'strides1': 2, 'activation1': 'tanh', 'num_dense_layers': 2, 'units0': 129, 'units1': 268, 'optimizer_name': 'RMSprop', 'learning_rate': 0.003483283896185026, 'momentum': 0.5548246179524288}. Best is trial 7 with value: 0.97645503282547.\u001b[0m\n"
     ]
    },
    {
     "name": "stdout",
     "output_type": "stream",
     "text": [
      "Epoch 1/3\n",
      "266/266 [==============================] - 17s 61ms/step - loss: 0.2687 - accuracy: 0.9125 - val_loss: 0.1145 - val_accuracy: 0.9669\n",
      "Epoch 2/3\n",
      "266/266 [==============================] - 16s 60ms/step - loss: 0.0783 - accuracy: 0.9757 - val_loss: 0.0771 - val_accuracy: 0.9775\n",
      "Epoch 3/3\n",
      "266/266 [==============================] - 16s 60ms/step - loss: 0.0552 - accuracy: 0.9827 - val_loss: 0.0731 - val_accuracy: 0.9794\n"
     ]
    },
    {
     "name": "stderr",
     "output_type": "stream",
     "text": [
      "\u001b[32m[I 2021-10-01 11:01:00,306]\u001b[0m Trial 9 finished with value: 0.9793650507926941 and parameters: {'num_conv_layers': 2, 'filters_0': 16, 'kernel_size0': 5, 'strides0': 1, 'activation0': 'relu', 'filters_1': 16, 'kernel_size1': 5, 'strides1': 2, 'activation1': 'tanh', 'num_dense_layers': 3, 'units0': 27, 'units1': 494, 'units2': 280, 'activation2': 'tanh', 'optimizer_name': 'RMSprop', 'learning_rate': 0.0013992355061844433, 'momentum': 0.11486157390523051}. Best is trial 9 with value: 0.9793650507926941.\u001b[0m\n"
     ]
    },
    {
     "name": "stdout",
     "output_type": "stream",
     "text": [
      "Epoch 1/3\n",
      "266/266 [==============================] - 12s 41ms/step - loss: 2.0944 - accuracy: 0.4140 - val_loss: 1.8087 - val_accuracy: 0.5873\n",
      "Epoch 2/3\n",
      "266/266 [==============================] - 11s 40ms/step - loss: 1.5073 - accuracy: 0.6715 - val_loss: 1.2299 - val_accuracy: 0.7286\n",
      "Epoch 3/3\n",
      "266/266 [==============================] - 11s 40ms/step - loss: 1.0074 - accuracy: 0.7791 - val_loss: 0.8273 - val_accuracy: 0.8040\n"
     ]
    },
    {
     "name": "stderr",
     "output_type": "stream",
     "text": [
      "\u001b[32m[I 2021-10-01 11:01:33,963]\u001b[0m Trial 10 finished with value: 0.8039682507514954 and parameters: {'num_conv_layers': 1, 'filters_0': 32, 'kernel_size0': 5, 'strides0': 1, 'activation0': 'relu', 'num_dense_layers': 3, 'units0': 18, 'units1': 21, 'activation1': 'tanh', 'units2': 479, 'activation2': 'relu', 'optimizer_name': 'RMSprop', 'learning_rate': 3.100269854463232e-05, 'momentum': 0.12149333336863286}. Best is trial 9 with value: 0.9793650507926941.\u001b[0m\n"
     ]
    },
    {
     "name": "stdout",
     "output_type": "stream",
     "text": [
      "Epoch 1/3\n",
      "266/266 [==============================] - 37s 136ms/step - loss: 0.2026 - accuracy: 0.9342 - val_loss: 0.0919 - val_accuracy: 0.9712\n",
      "Epoch 2/3\n",
      "266/266 [==============================] - 34s 127ms/step - loss: 0.0655 - accuracy: 0.9788 - val_loss: 0.1144 - val_accuracy: 0.9667\n",
      "Epoch 3/3\n",
      "266/266 [==============================] - 37s 138ms/step - loss: 0.0409 - accuracy: 0.9872 - val_loss: 0.0762 - val_accuracy: 0.9796\n"
     ]
    },
    {
     "name": "stderr",
     "output_type": "stream",
     "text": [
      "\u001b[32m[I 2021-10-01 11:03:21,801]\u001b[0m Trial 11 finished with value: 0.979629635810852 and parameters: {'num_conv_layers': 3, 'filters_0': 16, 'kernel_size0': 5, 'strides0': 1, 'activation0': 'relu', 'filters_1': 64, 'kernel_size1': 5, 'strides1': 2, 'activation1': 'tanh', 'filters_2': 32, 'kernel_size2': 3, 'strides2': 2, 'activation2': 'tanh', 'num_dense_layers': 2, 'units0': 510, 'units1': 510, 'optimizer_name': 'Adam', 'learning_rate': 0.001789421859194259}. Best is trial 11 with value: 0.979629635810852.\u001b[0m\n"
     ]
    },
    {
     "name": "stdout",
     "output_type": "stream",
     "text": [
      "Epoch 1/3\n",
      "266/266 [==============================] - 39s 143ms/step - loss: 0.4803 - accuracy: 0.9136 - val_loss: 0.2247 - val_accuracy: 0.9500\n",
      "Epoch 2/3\n",
      "266/266 [==============================] - 41s 153ms/step - loss: 0.1536 - accuracy: 0.9701 - val_loss: 0.2161 - val_accuracy: 0.9471\n",
      "Epoch 3/3\n",
      "266/266 [==============================] - 37s 139ms/step - loss: 0.1204 - accuracy: 0.9731 - val_loss: 0.1111 - val_accuracy: 0.9738\n"
     ]
    },
    {
     "name": "stderr",
     "output_type": "stream",
     "text": [
      "\u001b[32m[I 2021-10-01 11:05:19,168]\u001b[0m Trial 12 finished with value: 0.973809540271759 and parameters: {'num_conv_layers': 3, 'filters_0': 16, 'kernel_size0': 5, 'strides0': 1, 'activation0': 'relu', 'filters_1': 64, 'kernel_size1': 5, 'strides1': 2, 'activation1': 'tanh', 'filters_2': 64, 'kernel_size2': 3, 'strides2': 2, 'activation2': 'tanh', 'num_dense_layers': 3, 'units0': 236, 'units1': 503, 'units2': 10, 'optimizer_name': 'Adam', 'learning_rate': 0.0017521429073170589}. Best is trial 11 with value: 0.979629635810852.\u001b[0m\n"
     ]
    },
    {
     "name": "stdout",
     "output_type": "stream",
     "text": [
      "Epoch 1/3\n",
      "266/266 [==============================] - 32s 119ms/step - loss: 0.1762 - accuracy: 0.9437 - val_loss: 0.0736 - val_accuracy: 0.9786\n",
      "Epoch 2/3\n",
      "266/266 [==============================] - 33s 124ms/step - loss: 0.0552 - accuracy: 0.9828 - val_loss: 0.0632 - val_accuracy: 0.9828\n",
      "Epoch 3/3\n",
      "266/266 [==============================] - 34s 127ms/step - loss: 0.0372 - accuracy: 0.9888 - val_loss: 0.0696 - val_accuracy: 0.9841\n"
     ]
    },
    {
     "name": "stderr",
     "output_type": "stream",
     "text": [
      "\u001b[32m[I 2021-10-01 11:06:58,794]\u001b[0m Trial 13 finished with value: 0.9841269850730896 and parameters: {'num_conv_layers': 2, 'filters_0': 16, 'kernel_size0': 5, 'strides0': 1, 'activation0': 'relu', 'filters_1': 64, 'kernel_size1': 5, 'strides1': 2, 'activation1': 'tanh', 'num_dense_layers': 2, 'units0': 264, 'units1': 318, 'optimizer_name': 'RMSprop', 'learning_rate': 0.0016006738057384822, 'momentum': 0.44027725432029086}. Best is trial 13 with value: 0.9841269850730896.\u001b[0m\n"
     ]
    },
    {
     "name": "stdout",
     "output_type": "stream",
     "text": [
      "Epoch 1/3\n",
      "266/266 [==============================] - 81s 302ms/step - loss: 0.2783 - accuracy: 0.9103 - val_loss: 0.1149 - val_accuracy: 0.9638\n",
      "Epoch 2/3\n",
      "266/266 [==============================] - 79s 298ms/step - loss: 0.0989 - accuracy: 0.9711 - val_loss: 0.1025 - val_accuracy: 0.9669\n",
      "Epoch 3/3\n",
      "266/266 [==============================] - 77s 290ms/step - loss: 0.0769 - accuracy: 0.9768 - val_loss: 0.0960 - val_accuracy: 0.9738\n"
     ]
    },
    {
     "name": "stderr",
     "output_type": "stream",
     "text": [
      "\u001b[32m[I 2021-10-01 11:10:56,858]\u001b[0m Trial 14 finished with value: 0.973809540271759 and parameters: {'num_conv_layers': 3, 'filters_0': 16, 'kernel_size0': 5, 'strides0': 1, 'activation0': 'relu', 'filters_1': 64, 'kernel_size1': 5, 'strides1': 2, 'activation1': 'tanh', 'filters_2': 32, 'kernel_size2': 5, 'strides2': 1, 'activation2': 'relu', 'num_dense_layers': 2, 'units0': 510, 'units1': 291, 'optimizer_name': 'Adam', 'learning_rate': 0.005585577786842635}. Best is trial 13 with value: 0.9841269850730896.\u001b[0m\n"
     ]
    },
    {
     "name": "stdout",
     "output_type": "stream",
     "text": [
      "Epoch 1/3\n",
      "266/266 [==============================] - 95s 356ms/step - loss: 0.1979 - accuracy: 0.9360 - val_loss: 0.0923 - val_accuracy: 0.9722\n",
      "Epoch 2/3\n",
      "266/266 [==============================] - 97s 366ms/step - loss: 0.0578 - accuracy: 0.9826 - val_loss: 0.0575 - val_accuracy: 0.9839\n",
      "Epoch 3/3\n",
      "266/266 [==============================] - 95s 358ms/step - loss: 0.0340 - accuracy: 0.9892 - val_loss: 0.0682 - val_accuracy: 0.9841\n"
     ]
    },
    {
     "name": "stderr",
     "output_type": "stream",
     "text": [
      "\u001b[32m[I 2021-10-01 11:15:45,453]\u001b[0m Trial 15 finished with value: 0.9841269850730896 and parameters: {'num_conv_layers': 2, 'filters_0': 64, 'kernel_size0': 5, 'strides0': 1, 'activation0': 'relu', 'filters_1': 64, 'kernel_size1': 5, 'strides1': 2, 'activation1': 'tanh', 'num_dense_layers': 2, 'units0': 301, 'units1': 170, 'optimizer_name': 'RMSprop', 'learning_rate': 0.0016975322074965285, 'momentum': 0.47432022454066936}. Best is trial 13 with value: 0.9841269850730896.\u001b[0m\n"
     ]
    },
    {
     "name": "stdout",
     "output_type": "stream",
     "text": [
      "Epoch 1/3\n",
      "266/266 [==============================] - 97s 361ms/step - loss: 0.3339 - accuracy: 0.8939 - val_loss: 0.0963 - val_accuracy: 0.9717\n",
      "Epoch 2/3\n",
      "266/266 [==============================] - 98s 369ms/step - loss: 0.0813 - accuracy: 0.9768 - val_loss: 0.1089 - val_accuracy: 0.9765\n",
      "Epoch 3/3\n",
      "266/266 [==============================] - 93s 351ms/step - loss: 0.0656 - accuracy: 0.9819 - val_loss: 0.0956 - val_accuracy: 0.9743\n"
     ]
    },
    {
     "name": "stderr",
     "output_type": "stream",
     "text": [
      "\u001b[32m[I 2021-10-01 11:20:34,302]\u001b[0m Trial 16 finished with value: 0.9743386507034302 and parameters: {'num_conv_layers': 2, 'filters_0': 64, 'kernel_size0': 5, 'strides0': 1, 'activation0': 'relu', 'filters_1': 64, 'kernel_size1': 5, 'strides1': 2, 'activation1': 'relu', 'num_dense_layers': 2, 'units0': 270, 'units1': 167, 'optimizer_name': 'RMSprop', 'learning_rate': 0.004473471231157527, 'momentum': 0.47915157198552777}. Best is trial 13 with value: 0.9841269850730896.\u001b[0m\n"
     ]
    },
    {
     "name": "stdout",
     "output_type": "stream",
     "text": [
      "Epoch 1/3\n",
      "266/266 [==============================] - 30s 110ms/step - loss: 0.3231 - accuracy: 0.9098 - val_loss: 0.1130 - val_accuracy: 0.9680\n",
      "Epoch 2/3\n",
      "266/266 [==============================] - 28s 104ms/step - loss: 0.0987 - accuracy: 0.9727 - val_loss: 0.0969 - val_accuracy: 0.9741\n",
      "Epoch 3/3\n",
      "266/266 [==============================] - 27s 103ms/step - loss: 0.0755 - accuracy: 0.9807 - val_loss: 0.1315 - val_accuracy: 0.9712\n"
     ]
    },
    {
     "name": "stderr",
     "output_type": "stream",
     "text": [
      "\u001b[32m[I 2021-10-01 11:21:59,709]\u001b[0m Trial 17 finished with value: 0.9711640477180481 and parameters: {'num_conv_layers': 1, 'filters_0': 64, 'kernel_size0': 5, 'strides0': 1, 'activation0': 'relu', 'num_dense_layers': 2, 'units0': 218, 'units1': 182, 'activation1': 'tanh', 'optimizer_name': 'RMSprop', 'learning_rate': 0.006789261247380131, 'momentum': 0.4552241036517292}. Best is trial 13 with value: 0.9841269850730896.\u001b[0m\n"
     ]
    },
    {
     "name": "stdout",
     "output_type": "stream",
     "text": [
      "Epoch 1/3\n",
      "266/266 [==============================] - 96s 359ms/step - loss: 0.1625 - accuracy: 0.9478 - val_loss: 0.0733 - val_accuracy: 0.9778\n",
      "Epoch 2/3\n",
      "266/266 [==============================] - 98s 368ms/step - loss: 0.0519 - accuracy: 0.9838 - val_loss: 0.0680 - val_accuracy: 0.9833\n",
      "Epoch 3/3\n",
      "266/266 [==============================] - 97s 366ms/step - loss: 0.0330 - accuracy: 0.9899 - val_loss: 0.0779 - val_accuracy: 0.9841\n"
     ]
    },
    {
     "name": "stderr",
     "output_type": "stream",
     "text": [
      "\u001b[32m[I 2021-10-01 11:26:51,567]\u001b[0m Trial 18 finished with value: 0.9841269850730896 and parameters: {'num_conv_layers': 2, 'filters_0': 64, 'kernel_size0': 5, 'strides0': 1, 'activation0': 'relu', 'filters_1': 64, 'kernel_size1': 5, 'strides1': 2, 'activation1': 'tanh', 'num_dense_layers': 1, 'units0': 321, 'optimizer_name': 'RMSprop', 'learning_rate': 0.0013690279553007219, 'momentum': 0.6487234307735239}. Best is trial 13 with value: 0.9841269850730896.\u001b[0m\n"
     ]
    },
    {
     "name": "stdout",
     "output_type": "stream",
     "text": [
      "Epoch 1/3\n",
      "266/266 [==============================] - 38s 140ms/step - loss: 0.1661 - accuracy: 0.9473 - val_loss: 0.0747 - val_accuracy: 0.9780\n",
      "Epoch 2/3\n",
      "266/266 [==============================] - 36s 137ms/step - loss: 0.0472 - accuracy: 0.9850 - val_loss: 0.0651 - val_accuracy: 0.9820\n",
      "Epoch 3/3\n",
      "266/266 [==============================] - 35s 130ms/step - loss: 0.0270 - accuracy: 0.9914 - val_loss: 0.0597 - val_accuracy: 0.9847\n"
     ]
    },
    {
     "name": "stderr",
     "output_type": "stream",
     "text": [
      "\u001b[32m[I 2021-10-01 11:28:41,043]\u001b[0m Trial 19 finished with value: 0.9846560955047607 and parameters: {'num_conv_layers': 1, 'filters_0': 64, 'kernel_size0': 5, 'strides0': 1, 'activation0': 'relu', 'num_dense_layers': 1, 'units0': 339, 'optimizer_name': 'RMSprop', 'learning_rate': 0.0008192441836676961, 'momentum': 0.6933484473499578}. Best is trial 19 with value: 0.9846560955047607.\u001b[0m\n"
     ]
    },
    {
     "name": "stdout",
     "output_type": "stream",
     "text": [
      "Epoch 1/3\n",
      "266/266 [==============================] - 38s 141ms/step - loss: 0.2519 - accuracy: 0.9360 - val_loss: 0.1122 - val_accuracy: 0.9661\n",
      "Epoch 2/3\n",
      "266/266 [==============================] - 38s 143ms/step - loss: 0.0788 - accuracy: 0.9776 - val_loss: 0.1208 - val_accuracy: 0.9743\n",
      "Epoch 3/3\n",
      "266/266 [==============================] - 39s 148ms/step - loss: 0.0558 - accuracy: 0.9844 - val_loss: 0.1011 - val_accuracy: 0.9794\n"
     ]
    },
    {
     "name": "stderr",
     "output_type": "stream",
     "text": [
      "\u001b[32m[I 2021-10-01 11:30:36,922]\u001b[0m Trial 20 finished with value: 0.9793650507926941 and parameters: {'num_conv_layers': 1, 'filters_0': 64, 'kernel_size0': 5, 'strides0': 1, 'activation0': 'relu', 'num_dense_layers': 1, 'units0': 390, 'optimizer_name': 'RMSprop', 'learning_rate': 0.002568874836845369, 'momentum': 0.8533246734340953}. Best is trial 19 with value: 0.9846560955047607.\u001b[0m\n"
     ]
    },
    {
     "name": "stdout",
     "output_type": "stream",
     "text": [
      "Epoch 1/3\n",
      "266/266 [==============================] - 39s 145ms/step - loss: 0.1756 - accuracy: 0.9450 - val_loss: 0.0864 - val_accuracy: 0.9741\n",
      "Epoch 2/3\n",
      "266/266 [==============================] - 37s 138ms/step - loss: 0.0497 - accuracy: 0.9834 - val_loss: 0.0620 - val_accuracy: 0.9831\n",
      "Epoch 3/3\n",
      "266/266 [==============================] - 38s 143ms/step - loss: 0.0283 - accuracy: 0.9905 - val_loss: 0.0570 - val_accuracy: 0.9849\n"
     ]
    },
    {
     "name": "stderr",
     "output_type": "stream",
     "text": [
      "\u001b[32m[I 2021-10-01 11:32:31,401]\u001b[0m Trial 21 finished with value: 0.9849206209182739 and parameters: {'num_conv_layers': 1, 'filters_0': 64, 'kernel_size0': 5, 'strides0': 1, 'activation0': 'relu', 'num_dense_layers': 1, 'units0': 331, 'optimizer_name': 'RMSprop', 'learning_rate': 0.0007807774153892567, 'momentum': 0.6839274273404535}. Best is trial 21 with value: 0.9849206209182739.\u001b[0m\n"
     ]
    },
    {
     "name": "stdout",
     "output_type": "stream",
     "text": [
      "Epoch 1/3\n",
      "266/266 [==============================] - 38s 142ms/step - loss: 0.1715 - accuracy: 0.9463 - val_loss: 0.0791 - val_accuracy: 0.9770\n",
      "Epoch 2/3\n",
      "266/266 [==============================] - 36s 135ms/step - loss: 0.0480 - accuracy: 0.9844 - val_loss: 0.0558 - val_accuracy: 0.9833\n",
      "Epoch 3/3\n",
      "266/266 [==============================] - 35s 130ms/step - loss: 0.0276 - accuracy: 0.9911 - val_loss: 0.0639 - val_accuracy: 0.9839\n"
     ]
    },
    {
     "name": "stderr",
     "output_type": "stream",
     "text": [
      "\u001b[32m[I 2021-10-01 11:34:20,766]\u001b[0m Trial 22 finished with value: 0.9838624596595764 and parameters: {'num_conv_layers': 1, 'filters_0': 64, 'kernel_size0': 5, 'strides0': 1, 'activation0': 'relu', 'num_dense_layers': 1, 'units0': 338, 'optimizer_name': 'RMSprop', 'learning_rate': 0.0009759382472000529, 'momentum': 0.6798565072530913}. Best is trial 21 with value: 0.9849206209182739.\u001b[0m\n"
     ]
    },
    {
     "name": "stdout",
     "output_type": "stream",
     "text": [
      "Epoch 1/3\n",
      "266/266 [==============================] - 38s 142ms/step - loss: 0.1785 - accuracy: 0.9440 - val_loss: 0.0761 - val_accuracy: 0.9786\n",
      "Epoch 2/3\n",
      "266/266 [==============================] - 37s 141ms/step - loss: 0.0493 - accuracy: 0.9838 - val_loss: 0.0608 - val_accuracy: 0.9817\n",
      "Epoch 3/3\n",
      "266/266 [==============================] - 38s 143ms/step - loss: 0.0286 - accuracy: 0.9907 - val_loss: 0.0580 - val_accuracy: 0.9841\n"
     ]
    },
    {
     "name": "stderr",
     "output_type": "stream",
     "text": [
      "\u001b[32m[I 2021-10-01 11:36:15,311]\u001b[0m Trial 23 finished with value: 0.9841269850730896 and parameters: {'num_conv_layers': 1, 'filters_0': 64, 'kernel_size0': 5, 'strides0': 1, 'activation0': 'relu', 'num_dense_layers': 1, 'units0': 339, 'optimizer_name': 'RMSprop', 'learning_rate': 0.000644165838920633, 'momentum': 0.6772588610901047}. Best is trial 21 with value: 0.9849206209182739.\u001b[0m\n"
     ]
    },
    {
     "name": "stdout",
     "output_type": "stream",
     "text": [
      "Epoch 1/3\n",
      "266/266 [==============================] - 40s 148ms/step - loss: 0.5461 - accuracy: 0.9006 - val_loss: 0.1764 - val_accuracy: 0.9481\n",
      "Epoch 2/3\n",
      "266/266 [==============================] - 38s 144ms/step - loss: 0.1607 - accuracy: 0.9566 - val_loss: 0.1930 - val_accuracy: 0.9619\n",
      "Epoch 3/3\n",
      "266/266 [==============================] - 37s 140ms/step - loss: 0.1350 - accuracy: 0.9675 - val_loss: 0.2075 - val_accuracy: 0.9574\n"
     ]
    },
    {
     "name": "stderr",
     "output_type": "stream",
     "text": [
      "\u001b[32m[I 2021-10-01 11:38:11,444]\u001b[0m Trial 24 finished with value: 0.9574074149131775 and parameters: {'num_conv_layers': 1, 'filters_0': 64, 'kernel_size0': 5, 'strides0': 1, 'activation0': 'relu', 'num_dense_layers': 1, 'units0': 385, 'optimizer_name': 'RMSprop', 'learning_rate': 0.009814282304828784, 'momentum': 0.7345800545690017}. Best is trial 21 with value: 0.9849206209182739.\u001b[0m\n"
     ]
    },
    {
     "name": "stdout",
     "output_type": "stream",
     "text": [
      "Epoch 1/3\n",
      "266/266 [==============================] - 27s 101ms/step - loss: 0.1819 - accuracy: 0.9438 - val_loss: 0.0819 - val_accuracy: 0.9743\n",
      "Epoch 2/3\n",
      "266/266 [==============================] - 27s 100ms/step - loss: 0.0509 - accuracy: 0.9839 - val_loss: 0.0698 - val_accuracy: 0.9791\n",
      "Epoch 3/3\n",
      "266/266 [==============================] - 28s 106ms/step - loss: 0.0308 - accuracy: 0.9906 - val_loss: 0.0648 - val_accuracy: 0.9815\n"
     ]
    },
    {
     "name": "stderr",
     "output_type": "stream",
     "text": [
      "\u001b[32m[I 2021-10-01 11:39:33,887]\u001b[0m Trial 25 finished with value: 0.9814814925193787 and parameters: {'num_conv_layers': 1, 'filters_0': 64, 'kernel_size0': 5, 'strides0': 1, 'activation0': 'relu', 'num_dense_layers': 1, 'units0': 204, 'optimizer_name': 'RMSprop', 'learning_rate': 0.002643190348510029, 'momentum': 0.6143744945924097}. Best is trial 21 with value: 0.9849206209182739.\u001b[0m\n"
     ]
    },
    {
     "name": "stdout",
     "output_type": "stream",
     "text": [
      "Epoch 1/3\n",
      "266/266 [==============================] - 39s 146ms/step - loss: 0.1642 - accuracy: 0.9481 - val_loss: 0.0802 - val_accuracy: 0.9754\n",
      "Epoch 2/3\n",
      "266/266 [==============================] - 39s 145ms/step - loss: 0.0480 - accuracy: 0.9844 - val_loss: 0.0622 - val_accuracy: 0.9849\n",
      "Epoch 3/3\n",
      "266/266 [==============================] - 43s 161ms/step - loss: 0.0271 - accuracy: 0.9911 - val_loss: 0.0905 - val_accuracy: 0.9804\n"
     ]
    },
    {
     "name": "stderr",
     "output_type": "stream",
     "text": [
      "\u001b[32m[I 2021-10-01 11:41:35,305]\u001b[0m Trial 26 finished with value: 0.9804232716560364 and parameters: {'num_conv_layers': 1, 'filters_0': 64, 'kernel_size0': 5, 'strides0': 1, 'activation0': 'relu', 'num_dense_layers': 1, 'units0': 425, 'optimizer_name': 'RMSprop', 'learning_rate': 0.0005811119174200094, 'momentum': 0.8785275644683761}. Best is trial 21 with value: 0.9849206209182739.\u001b[0m\n"
     ]
    },
    {
     "name": "stdout",
     "output_type": "stream",
     "text": [
      "Epoch 1/3\n",
      "266/266 [==============================] - 18s 66ms/step - loss: 0.2434 - accuracy: 0.9216 - val_loss: 0.1651 - val_accuracy: 0.9503\n",
      "Epoch 2/3\n",
      "266/266 [==============================] - 16s 62ms/step - loss: 0.0917 - accuracy: 0.9725 - val_loss: 0.1151 - val_accuracy: 0.9685\n",
      "Epoch 3/3\n",
      "266/266 [==============================] - 16s 59ms/step - loss: 0.0548 - accuracy: 0.9830 - val_loss: 0.1129 - val_accuracy: 0.9738\n"
     ]
    },
    {
     "name": "stderr",
     "output_type": "stream",
     "text": [
      "\u001b[32m[I 2021-10-01 11:42:26,148]\u001b[0m Trial 27 finished with value: 0.973809540271759 and parameters: {'num_conv_layers': 1, 'filters_0': 32, 'kernel_size0': 5, 'strides0': 1, 'activation0': 'tanh', 'num_dense_layers': 2, 'units0': 193, 'units1': 341, 'activation1': 'relu', 'optimizer_name': 'RMSprop', 'learning_rate': 0.0021758254895334287, 'momentum': 0.3578856293088749}. Best is trial 21 with value: 0.9849206209182739.\u001b[0m\n"
     ]
    },
    {
     "name": "stdout",
     "output_type": "stream",
     "text": [
      "Epoch 1/3\n",
      "266/266 [==============================] - 220s 825ms/step - loss: 0.1806 - accuracy: 0.9425 - val_loss: 0.0657 - val_accuracy: 0.9799\n",
      "Epoch 2/3\n",
      "266/266 [==============================] - 227s 855ms/step - loss: 0.0461 - accuracy: 0.9854 - val_loss: 0.0514 - val_accuracy: 0.9849\n",
      "Epoch 3/3\n",
      "266/266 [==============================] - 229s 863ms/step - loss: 0.0286 - accuracy: 0.9905 - val_loss: 0.0567 - val_accuracy: 0.9857\n"
     ]
    },
    {
     "name": "stderr",
     "output_type": "stream",
     "text": [
      "\u001b[32m[I 2021-10-01 11:53:43,432]\u001b[0m Trial 28 finished with value: 0.9857142567634583 and parameters: {'num_conv_layers': 2, 'filters_0': 64, 'kernel_size0': 5, 'strides0': 1, 'activation0': 'relu', 'filters_1': 32, 'kernel_size1': 5, 'strides1': 1, 'activation1': 'relu', 'num_dense_layers': 1, 'units0': 248, 'optimizer_name': 'RMSprop', 'learning_rate': 0.0007355366038744829, 'momentum': 0.3664230982315553}. Best is trial 28 with value: 0.9857142567634583.\u001b[0m\n"
     ]
    },
    {
     "name": "stdout",
     "output_type": "stream",
     "text": [
      "Epoch 1/3\n",
      "266/266 [==============================] - 27s 99ms/step - loss: 0.2171 - accuracy: 0.9337 - val_loss: 0.0890 - val_accuracy: 0.9754\n",
      "Epoch 2/3\n",
      "266/266 [==============================] - 26s 97ms/step - loss: 0.0612 - accuracy: 0.9810 - val_loss: 0.0663 - val_accuracy: 0.9815\n",
      "Epoch 3/3\n",
      "266/266 [==============================] - 26s 99ms/step - loss: 0.0390 - accuracy: 0.9884 - val_loss: 0.0611 - val_accuracy: 0.9820\n"
     ]
    },
    {
     "name": "stderr",
     "output_type": "stream",
     "text": [
      "\u001b[32m[I 2021-10-01 11:55:02,826]\u001b[0m Trial 29 finished with value: 0.9820106029510498 and parameters: {'num_conv_layers': 1, 'filters_0': 64, 'kernel_size0': 5, 'strides0': 1, 'activation0': 'relu', 'num_dense_layers': 1, 'units0': 173, 'optimizer_name': 'RMSprop', 'learning_rate': 0.00048357145307672227, 'momentum': 0.567095738297435}. Best is trial 28 with value: 0.9857142567634583.\u001b[0m\n"
     ]
    }
   ],
   "source": [
    "study = optuna.create_study(\n",
    "    direction='maximize',\n",
    "    study_name=study_name,\n",
    "    storage=storage_name,\n",
    "    load_if_exists=True,\n",
    ")\n",
    "\n",
    "study.optimize(objective, n_trials=30)"
   ]
  },
  {
   "cell_type": "markdown",
   "metadata": {
    "id": "wlTePrv15DnB"
   },
   "source": [
    "## Analyze results"
   ]
  },
  {
   "cell_type": "code",
   "execution_count": 22,
   "metadata": {
    "colab": {
     "base_uri": "https://localhost:8080/",
     "height": 171
    },
    "executionInfo": {
     "elapsed": 130,
     "status": "error",
     "timestamp": 1633053333434,
     "user": {
      "displayName": "Elyas Shaswary",
      "photoUrl": "https://lh3.googleusercontent.com/a-/AOh14Ggct6FjOdLaBZTNZvshmrJlU7aAZVqtx_KNug550g=s64",
      "userId": "06356162520046601702"
     },
     "user_tz": 240
    },
    "id": "XaOg94Id5DnB",
    "outputId": "22e1c195-6c29-407b-bfbf-32994c8ce84c"
   },
   "outputs": [
    {
     "data": {
      "text/plain": [
       "{'activation0': 'relu',\n",
       " 'activation1': 'relu',\n",
       " 'filters_0': 64,\n",
       " 'filters_1': 32,\n",
       " 'kernel_size0': 5,\n",
       " 'kernel_size1': 5,\n",
       " 'learning_rate': 0.0007355366038744829,\n",
       " 'momentum': 0.3664230982315553,\n",
       " 'num_conv_layers': 2,\n",
       " 'num_dense_layers': 1,\n",
       " 'optimizer_name': 'RMSprop',\n",
       " 'strides0': 1,\n",
       " 'strides1': 1,\n",
       " 'units0': 248}"
      ]
     },
     "execution_count": 22,
     "metadata": {},
     "output_type": "execute_result"
    }
   ],
   "source": [
    "study.best_params"
   ]
  },
  {
   "cell_type": "code",
   "execution_count": 23,
   "metadata": {
    "colab": {
     "base_uri": "https://localhost:8080/"
    },
    "executionInfo": {
     "elapsed": 11,
     "status": "ok",
     "timestamp": 1633045303068,
     "user": {
      "displayName": "Elyas Shaswary",
      "photoUrl": "https://lh3.googleusercontent.com/a-/AOh14Ggct6FjOdLaBZTNZvshmrJlU7aAZVqtx_KNug550g=s64",
      "userId": "06356162520046601702"
     },
     "user_tz": 240
    },
    "id": "u6t4rKhC5DnC",
    "outputId": "3bcbd7b1-43d0-4662-83cd-ce6eab99b863"
   },
   "outputs": [
    {
     "data": {
      "text/plain": [
       "0.9857142567634583"
      ]
     },
     "execution_count": 23,
     "metadata": {},
     "output_type": "execute_result"
    }
   ],
   "source": [
    "study.best_value"
   ]
  },
  {
   "cell_type": "code",
   "execution_count": 24,
   "metadata": {
    "colab": {
     "base_uri": "https://localhost:8080/",
     "height": 313
    },
    "executionInfo": {
     "elapsed": 174,
     "status": "ok",
     "timestamp": 1633045303234,
     "user": {
      "displayName": "Elyas Shaswary",
      "photoUrl": "https://lh3.googleusercontent.com/a-/AOh14Ggct6FjOdLaBZTNZvshmrJlU7aAZVqtx_KNug550g=s64",
      "userId": "06356162520046601702"
     },
     "user_tz": 240
    },
    "id": "MoFy3b7R5DnC",
    "outputId": "c4659936-5e02-49cd-f30d-742b1c6421cd"
   },
   "outputs": [
    {
     "data": {
      "text/plain": [
       "Text(0, 0.5, 'Accuracy')"
      ]
     },
     "execution_count": 24,
     "metadata": {},
     "output_type": "execute_result"
    },
    {
     "data": {
      "image/png": "[encoded data removed]",
      "text/plain": [
       "<Figure size 432x288 with 1 Axes>"
      ]
     },
     "metadata": {
      "needs_background": "light"
     },
     "output_type": "display_data"
    }
   ],
   "source": [
    "results = study.trials_dataframe()\n",
    "\n",
    "results['value'].sort_values().reset_index(drop=True).plot()\n",
    "plt.title('Convergence plot')\n",
    "plt.xlabel('Iteration')\n",
    "plt.ylabel('Accuracy')"
   ]
  },
  {
   "cell_type": "code",
   "execution_count": 25,
   "metadata": {
    "colab": {
     "base_uri": "https://localhost:8080/",
     "height": 313
    },
    "executionInfo": {
     "elapsed": 142,
     "status": "ok",
     "timestamp": 1633045303370,
     "user": {
      "displayName": "Elyas Shaswary",
      "photoUrl": "https://lh3.googleusercontent.com/a-/AOh14Ggct6FjOdLaBZTNZvshmrJlU7aAZVqtx_KNug550g=s64",
      "userId": "06356162520046601702"
     },
     "user_tz": 240
    },
    "id": "45UVQMUa5DnD",
    "outputId": "5297bfd9-6959-4418-966d-6d0b6374f760"
   },
   "outputs": [
    {
     "data": {
      "text/html": [
       "<div>\n",
       "<style scoped>\n",
       "    .dataframe tbody tr th:only-of-type {\n",
       "        vertical-align: middle;\n",
       "    }\n",
       "\n",
       "    .dataframe tbody tr th {\n",
       "        vertical-align: top;\n",
       "    }\n",
       "\n",
       "    .dataframe thead th {\n",
       "        text-align: right;\n",
       "    }\n",
       "</style>\n",
       "<table border=\"1\" class=\"dataframe\">\n",
       "  <thead>\n",
       "    <tr style=\"text-align: right;\">\n",
       "      <th></th>\n",
       "      <th>number</th>\n",
       "      <th>value</th>\n",
       "      <th>datetime_start</th>\n",
       "      <th>datetime_complete</th>\n",
       "      <th>duration</th>\n",
       "      <th>params_activation0</th>\n",
       "      <th>params_activation1</th>\n",
       "      <th>params_activation2</th>\n",
       "      <th>params_filters_0</th>\n",
       "      <th>params_filters_1</th>\n",
       "      <th>...</th>\n",
       "      <th>params_num_conv_layers</th>\n",
       "      <th>params_num_dense_layers</th>\n",
       "      <th>params_optimizer_name</th>\n",
       "      <th>params_strides0</th>\n",
       "      <th>params_strides1</th>\n",
       "      <th>params_strides2</th>\n",
       "      <th>params_units0</th>\n",
       "      <th>params_units1</th>\n",
       "      <th>params_units2</th>\n",
       "      <th>state</th>\n",
       "    </tr>\n",
       "  </thead>\n",
       "  <tbody>\n",
       "    <tr>\n",
       "      <th>0</th>\n",
       "      <td>0</td>\n",
       "      <td>0.968254</td>\n",
       "      <td>2021-10-01 10:49:50.613611</td>\n",
       "      <td>2021-10-01 10:53:03.327610</td>\n",
       "      <td>0 days 00:03:12.713999</td>\n",
       "      <td>relu</td>\n",
       "      <td>tanh</td>\n",
       "      <td>NaN</td>\n",
       "      <td>64</td>\n",
       "      <td>16.0</td>\n",
       "      <td>...</td>\n",
       "      <td>2</td>\n",
       "      <td>1</td>\n",
       "      <td>RMSprop</td>\n",
       "      <td>1</td>\n",
       "      <td>1.0</td>\n",
       "      <td>NaN</td>\n",
       "      <td>129</td>\n",
       "      <td>NaN</td>\n",
       "      <td>NaN</td>\n",
       "      <td>COMPLETE</td>\n",
       "    </tr>\n",
       "    <tr>\n",
       "      <th>1</th>\n",
       "      <td>1</td>\n",
       "      <td>0.963757</td>\n",
       "      <td>2021-10-01 10:53:03.383610</td>\n",
       "      <td>2021-10-01 10:53:14.591611</td>\n",
       "      <td>0 days 00:00:11.208001</td>\n",
       "      <td>tanh</td>\n",
       "      <td>tanh</td>\n",
       "      <td>NaN</td>\n",
       "      <td>16</td>\n",
       "      <td>NaN</td>\n",
       "      <td>...</td>\n",
       "      <td>1</td>\n",
       "      <td>2</td>\n",
       "      <td>Adam</td>\n",
       "      <td>2</td>\n",
       "      <td>NaN</td>\n",
       "      <td>NaN</td>\n",
       "      <td>356</td>\n",
       "      <td>374.0</td>\n",
       "      <td>NaN</td>\n",
       "      <td>COMPLETE</td>\n",
       "    </tr>\n",
       "    <tr>\n",
       "      <th>2</th>\n",
       "      <td>2</td>\n",
       "      <td>0.952645</td>\n",
       "      <td>2021-10-01 10:53:14.632610</td>\n",
       "      <td>2021-10-01 10:53:27.248611</td>\n",
       "      <td>0 days 00:00:12.616001</td>\n",
       "      <td>tanh</td>\n",
       "      <td>relu</td>\n",
       "      <td>tanh</td>\n",
       "      <td>16</td>\n",
       "      <td>32.0</td>\n",
       "      <td>...</td>\n",
       "      <td>2</td>\n",
       "      <td>3</td>\n",
       "      <td>Adam</td>\n",
       "      <td>2</td>\n",
       "      <td>2.0</td>\n",
       "      <td>NaN</td>\n",
       "      <td>446</td>\n",
       "      <td>113.0</td>\n",
       "      <td>255.0</td>\n",
       "      <td>COMPLETE</td>\n",
       "    </tr>\n",
       "    <tr>\n",
       "      <th>3</th>\n",
       "      <td>3</td>\n",
       "      <td>0.826720</td>\n",
       "      <td>2021-10-01 10:53:27.293611</td>\n",
       "      <td>2021-10-01 10:53:40.611611</td>\n",
       "      <td>0 days 00:00:13.318000</td>\n",
       "      <td>relu</td>\n",
       "      <td>NaN</td>\n",
       "      <td>NaN</td>\n",
       "      <td>32</td>\n",
       "      <td>NaN</td>\n",
       "      <td>...</td>\n",
       "      <td>1</td>\n",
       "      <td>1</td>\n",
       "      <td>RMSprop</td>\n",
       "      <td>2</td>\n",
       "      <td>NaN</td>\n",
       "      <td>NaN</td>\n",
       "      <td>283</td>\n",
       "      <td>NaN</td>\n",
       "      <td>NaN</td>\n",
       "      <td>COMPLETE</td>\n",
       "    </tr>\n",
       "    <tr>\n",
       "      <th>4</th>\n",
       "      <td>4</td>\n",
       "      <td>0.964550</td>\n",
       "      <td>2021-10-01 10:53:40.653610</td>\n",
       "      <td>2021-10-01 10:54:45.909611</td>\n",
       "      <td>0 days 00:01:05.256001</td>\n",
       "      <td>tanh</td>\n",
       "      <td>relu</td>\n",
       "      <td>NaN</td>\n",
       "      <td>16</td>\n",
       "      <td>16.0</td>\n",
       "      <td>...</td>\n",
       "      <td>2</td>\n",
       "      <td>2</td>\n",
       "      <td>Adam</td>\n",
       "      <td>1</td>\n",
       "      <td>1.0</td>\n",
       "      <td>NaN</td>\n",
       "      <td>50</td>\n",
       "      <td>413.0</td>\n",
       "      <td>NaN</td>\n",
       "      <td>COMPLETE</td>\n",
       "    </tr>\n",
       "  </tbody>\n",
       "</table>\n",
       "<p>5 rows × 26 columns</p>\n",
       "</div>"
      ],
      "text/plain": [
       "   number     value             datetime_start          datetime_complete  \\\n",
       "0       0  0.968254 2021-10-01 10:49:50.613611 2021-10-01 10:53:03.327610   \n",
       "1       1  0.963757 2021-10-01 10:53:03.383610 2021-10-01 10:53:14.591611   \n",
       "2       2  0.952645 2021-10-01 10:53:14.632610 2021-10-01 10:53:27.248611   \n",
       "3       3  0.826720 2021-10-01 10:53:27.293611 2021-10-01 10:53:40.611611   \n",
       "4       4  0.964550 2021-10-01 10:53:40.653610 2021-10-01 10:54:45.909611   \n",
       "\n",
       "                duration params_activation0 params_activation1  \\\n",
       "0 0 days 00:03:12.713999               relu               tanh   \n",
       "1 0 days 00:00:11.208001               tanh               tanh   \n",
       "2 0 days 00:00:12.616001               tanh               relu   \n",
       "3 0 days 00:00:13.318000               relu                NaN   \n",
       "4 0 days 00:01:05.256001               tanh               relu   \n",
       "\n",
       "  params_activation2  params_filters_0  params_filters_1  ...  \\\n",
       "0                NaN                64              16.0  ...   \n",
       "1                NaN                16               NaN  ...   \n",
       "2               tanh                16              32.0  ...   \n",
       "3                NaN                32               NaN  ...   \n",
       "4                NaN                16              16.0  ...   \n",
       "\n",
       "   params_num_conv_layers  params_num_dense_layers  params_optimizer_name  \\\n",
       "0                       2                        1                RMSprop   \n",
       "1                       1                        2                   Adam   \n",
       "2                       2                        3                   Adam   \n",
       "3                       1                        1                RMSprop   \n",
       "4                       2                        2                   Adam   \n",
       "\n",
       "   params_strides0  params_strides1  params_strides2  params_units0  \\\n",
       "0                1              1.0              NaN            129   \n",
       "1                2              NaN              NaN            356   \n",
       "2                2              2.0              NaN            446   \n",
       "3                2              NaN              NaN            283   \n",
       "4                1              1.0              NaN             50   \n",
       "\n",
       "   params_units1 params_units2     state  \n",
       "0            NaN           NaN  COMPLETE  \n",
       "1          374.0           NaN  COMPLETE  \n",
       "2          113.0         255.0  COMPLETE  \n",
       "3            NaN           NaN  COMPLETE  \n",
       "4          413.0           NaN  COMPLETE  \n",
       "\n",
       "[5 rows x 26 columns]"
      ]
     },
     "execution_count": 25,
     "metadata": {},
     "output_type": "execute_result"
    }
   ],
   "source": [
    "results.head()"
   ]
  },
  {
   "cell_type": "markdown",
   "metadata": {
    "_cell_guid": "e758621d-b27b-40ff-a93f-bebd2e0e5243",
    "_uuid": "0a1834f2a9f2db15dcaba4a84004b9627d714469",
    "id": "6iaiiIoJ5DnD"
   },
   "source": [
    "## Evaluate the model"
   ]
  },
  {
   "cell_type": "code",
   "execution_count": 26,
   "metadata": {
    "executionInfo": {
     "elapsed": 155,
     "status": "ok",
     "timestamp": 1633045303524,
     "user": {
      "displayName": "Elyas Shaswary",
      "photoUrl": "https://lh3.googleusercontent.com/a-/AOh14Ggct6FjOdLaBZTNZvshmrJlU7aAZVqtx_KNug550g=s64",
      "userId": "06356162520046601702"
     },
     "user_tz": 240
    },
    "id": "6gP6R0lN5DnD"
   },
   "outputs": [],
   "source": [
    "# load best model\n",
    "\n",
    "model = load_model(path_best_model)"
   ]
  },
  {
   "cell_type": "code",
   "execution_count": 27,
   "metadata": {
    "colab": {
     "base_uri": "https://localhost:8080/"
    },
    "executionInfo": {
     "elapsed": 7,
     "status": "ok",
     "timestamp": 1633045303524,
     "user": {
      "displayName": "Elyas Shaswary",
      "photoUrl": "https://lh3.googleusercontent.com/a-/AOh14Ggct6FjOdLaBZTNZvshmrJlU7aAZVqtx_KNug550g=s64",
      "userId": "06356162520046601702"
     },
     "user_tz": 240
    },
    "id": "Ny-q-ngG5DnE",
    "outputId": "e3d7f953-c4fe-4ccb-d5dd-19783d60aef4"
   },
   "outputs": [
    {
     "name": "stdout",
     "output_type": "stream",
     "text": [
      "Model: \"sequential_28\"\n",
      "_________________________________________________________________\n",
      "Layer (type)                 Output Shape              Param #   \n",
      "=================================================================\n",
      "conv2d_49 (Conv2D)           (None, 28, 28, 64)        1664      \n",
      "_________________________________________________________________\n",
      "conv2d_50 (Conv2D)           (None, 28, 28, 32)        51232     \n",
      "_________________________________________________________________\n",
      "max_pooling2d_28 (MaxPooling (None, 14, 14, 32)        0         \n",
      "_________________________________________________________________\n",
      "flatten_28 (Flatten)         (None, 6272)              0         \n",
      "_________________________________________________________________\n",
      "dense_76 (Dense)             (None, 248)               1555704   \n",
      "_________________________________________________________________\n",
      "dense_77 (Dense)             (None, 10)                2490      \n",
      "=================================================================\n",
      "Total params: 1,611,090\n",
      "Trainable params: 1,611,090\n",
      "Non-trainable params: 0\n",
      "_________________________________________________________________\n"
     ]
    }
   ],
   "source": [
    "model.summary()"
   ]
  },
  {
   "cell_type": "code",
   "execution_count": 28,
   "metadata": {
    "colab": {
     "base_uri": "https://localhost:8080/"
    },
    "executionInfo": {
     "elapsed": 6905,
     "status": "ok",
     "timestamp": 1633045310426,
     "user": {
      "displayName": "Elyas Shaswary",
      "photoUrl": "https://lh3.googleusercontent.com/a-/AOh14Ggct6FjOdLaBZTNZvshmrJlU7aAZVqtx_KNug550g=s64",
      "userId": "06356162520046601702"
     },
     "user_tz": 240
    },
    "id": "VaEbTdyj5DnE",
    "outputId": "f13931ce-676a-4909-fa28-491d11a3eef4"
   },
   "outputs": [
    {
     "name": "stdout",
     "output_type": "stream",
     "text": [
      "132/132 [==============================] - 7s 52ms/step - loss: 0.0434 - accuracy: 0.9869\n"
     ]
    }
   ],
   "source": [
    "# make predictions in test set\n",
    "result = model.evaluate(x=X_test, y=y_test)"
   ]
  },
  {
   "cell_type": "code",
   "execution_count": 29,
   "metadata": {
    "colab": {
     "base_uri": "https://localhost:8080/"
    },
    "executionInfo": {
     "elapsed": 17,
     "status": "ok",
     "timestamp": 1633045310427,
     "user": {
      "displayName": "Elyas Shaswary",
      "photoUrl": "https://lh3.googleusercontent.com/a-/AOh14Ggct6FjOdLaBZTNZvshmrJlU7aAZVqtx_KNug550g=s64",
      "userId": "06356162520046601702"
     },
     "user_tz": 240
    },
    "id": "qe-r8nGr5DnE",
    "outputId": "3b561075-2c15-4d5e-fe96-4f7c9ae2abc8"
   },
   "outputs": [
    {
     "name": "stdout",
     "output_type": "stream",
     "text": [
      "loss 0.04338512942194939\n",
      "accuracy 0.9869047403335571\n"
     ]
    }
   ],
   "source": [
    "# print evaluation metrics\n",
    "for name, value in zip(model.metrics_names, result):\n",
    "    print(name, value)"
   ]
  },
  {
   "cell_type": "markdown",
   "metadata": {
    "_cell_guid": "5688faa0-b33b-4e92-b125-7fa0b37e7df3",
    "_uuid": "3306d29b732341663e50866140dc569360701a81",
    "id": "2QLOP2iK5DnF"
   },
   "source": [
    "## Confusion matrix"
   ]
  },
  {
   "cell_type": "code",
   "execution_count": 30,
   "metadata": {
    "colab": {
     "base_uri": "https://localhost:8080/"
    },
    "executionInfo": {
     "elapsed": 10369,
     "status": "ok",
     "timestamp": 1633045320783,
     "user": {
      "displayName": "Elyas Shaswary",
      "photoUrl": "https://lh3.googleusercontent.com/a-/AOh14Ggct6FjOdLaBZTNZvshmrJlU7aAZVqtx_KNug550g=s64",
      "userId": "06356162520046601702"
     },
     "user_tz": 240
    },
    "id": "7DNtG-V15DnF",
    "outputId": "5ce2785d-b85b-4d0a-9b44-bf51c39962f8"
   },
   "outputs": [
    {
     "data": {
      "text/plain": [
       "array([[418,   0,   0,   0,   1,   0,   2,   0,   1,   0],\n",
       "       [  0, 471,   0,   0,   0,   0,   1,   0,   1,   0],\n",
       "       [  1,   2, 403,   1,   0,   0,   1,   0,   1,   0],\n",
       "       [  0,   0,   1, 421,   0,   2,   0,   1,   0,   1],\n",
       "       [  1,   2,   0,   0, 423,   0,   2,   1,   0,   0],\n",
       "       [  0,   0,   0,   1,   0, 377,   2,   0,   2,   0],\n",
       "       [  0,   0,   0,   0,   3,   0, 409,   0,   0,   0],\n",
       "       [  0,   2,   1,   0,   0,   1,   0, 464,   0,   1],\n",
       "       [  0,   3,   0,   0,   1,   0,   4,   0, 375,   1],\n",
       "       [  2,   1,   0,   0,   6,   0,   0,   0,   1, 384]], dtype=int64)"
      ]
     },
     "execution_count": 30,
     "metadata": {},
     "output_type": "execute_result"
    }
   ],
   "source": [
    "# Predict the values from the validation dataset\n",
    "y_pred = model.predict(X_test)\n",
    "\n",
    "# Convert predictions classes to one hot vectors \n",
    "y_pred_classes = np.argmax(y_pred, axis = 1)\n",
    "\n",
    "# Convert validation observations to one hot vectors\n",
    "y_true = np.argmax(y_test, axis = 1)\n",
    "\n",
    "# compute the confusion matrix\n",
    "cm = confusion_matrix(y_true, y_pred_classes) \n",
    "\n",
    "cm"
   ]
  },
  {
   "cell_type": "code",
   "execution_count": 31,
   "metadata": {
    "_cell_guid": "11361e73-8250-4bf5-a353-b0f8ea83e659",
    "_execution_state": "idle",
    "_uuid": "16e161179bf1b51ba66c39b2cead883f1db3a9c7",
    "colab": {
     "base_uri": "https://localhost:8080/",
     "height": 329
    },
    "executionInfo": {
     "elapsed": 785,
     "status": "ok",
     "timestamp": 1633045321555,
     "user": {
      "displayName": "Elyas Shaswary",
      "photoUrl": "https://lh3.googleusercontent.com/a-/AOh14Ggct6FjOdLaBZTNZvshmrJlU7aAZVqtx_KNug550g=s64",
      "userId": "06356162520046601702"
     },
     "user_tz": 240
    },
    "id": "yf9ktl7i5DnF",
    "outputId": "09c0985d-e571-4459-d113-1d891e447894"
   },
   "outputs": [
    {
     "data": {
      "text/plain": [
       "Text(0.5, 13.421126458070283, 'Predicted label')"
      ]
     },
     "execution_count": 31,
     "metadata": {},
     "output_type": "execute_result"
    },
    {
     "data": {
      "image/png": "[encoded data removed]",
      "text/plain": [
       "<Figure size 432x288 with 2 Axes>"
      ]
     },
     "metadata": {
      "needs_background": "light"
     },
     "output_type": "display_data"
    }
   ],
   "source": [
    "# let's make it more colourful\n",
    "classes = 10\n",
    "\n",
    "plt.imshow(cm, interpolation='nearest', cmap=plt.cm.Blues)\n",
    "plt.title('Confusion matrix')\n",
    "plt.colorbar()\n",
    "tick_marks = np.arange(classes)\n",
    "plt.xticks(tick_marks, range(classes), rotation=45)\n",
    "plt.yticks(tick_marks, range(classes))\n",
    "\n",
    "for i, j in itertools.product(range(cm.shape[0]), range(cm.shape[1])):\n",
    "    plt.text(j, i, cm[i, j],\n",
    "             horizontalalignment=\"center\",\n",
    "             color=\"white\" if cm[i, j] > 100 else \"black\",\n",
    "            )\n",
    "\n",
    "plt.tight_layout()\n",
    "plt.ylabel('True label')\n",
    "plt.xlabel('Predicted label')"
   ]
  },
  {
   "cell_type": "markdown",
   "metadata": {
    "_cell_guid": "1b8a5cdc-9122-4e31-b9fa-0f6b57d33fc8",
    "_uuid": "ecb928433299b163ecc1f6c4e66d4ddcf38fe898",
    "id": "cGyaCONp5DnG"
   },
   "source": [
    "The model performed very well on all digits."
   ]
  },
  {
   "cell_type": "markdown",
   "metadata": {},
   "source": [
    "## Search Analysis"
   ]
  },
  {
   "cell_type": "code",
   "execution_count": 32,
   "metadata": {
    "executionInfo": {
     "elapsed": 10,
     "status": "ok",
     "timestamp": 1633045321556,
     "user": {
      "displayName": "Elyas Shaswary",
      "photoUrl": "https://lh3.googleusercontent.com/a-/AOh14Ggct6FjOdLaBZTNZvshmrJlU7aAZVqtx_KNug550g=s64",
      "userId": "06356162520046601702"
     },
     "user_tz": 240
    },
    "id": "_kc-1oaT5DnG"
   },
   "outputs": [
    {
     "name": "stderr",
     "output_type": "stream",
     "text": [
      "C:\\Users\\Elyas\\AppData\\Local\\Temp/ipykernel_19804/2278197192.py:1: ExperimentalWarning: plot_optimization_history is experimental (supported from v2.2.0). The interface can change in the future.\n",
      "  fig = optuna.visualization.matplotlib.plot_optimization_history(study)\n"
     ]
    },
    {
     "data": {
      "image/png": "[encoded data removed]",
      "text/plain": [
       "<Figure size 432x288 with 1 Axes>"
      ]
     },
     "metadata": {},
     "output_type": "display_data"
    }
   ],
   "source": [
    "# Optimzation history\n",
    "fig = optuna.visualization.matplotlib.plot_optimization_history(study)"
   ]
  },
  {
   "cell_type": "code",
   "execution_count": 39,
   "metadata": {},
   "outputs": [
    {
     "name": "stderr",
     "output_type": "stream",
     "text": [
      "C:\\Users\\Elyas\\AppData\\Local\\Temp/ipykernel_19804/1086962217.py:1: ExperimentalWarning: plot_slice is experimental (supported from v2.2.0). The interface can change in the future.\n",
      "  optuna.visualization.matplotlib.plot_slice(\n"
     ]
    },
    {
     "data": {
      "image/png": "[encoded data removed]",
      "text/plain": [
       "<Figure size 864x288 with 5 Axes>"
      ]
     },
     "metadata": {},
     "output_type": "display_data"
    }
   ],
   "source": [
    "# Slice plots\n",
    "optuna.visualization.matplotlib.plot_slice(\n",
    "    study,\n",
    "    params=[\"num_conv_layers\", \"num_dense_layers\", \"optimizer_name\", \"learning_rate\"],\n",
    "    );"
   ]
  },
  {
   "cell_type": "code",
   "execution_count": 40,
   "metadata": {},
   "outputs": [
    {
     "name": "stderr",
     "output_type": "stream",
     "text": [
      "C:\\Users\\Elyas\\AppData\\Local\\Temp/ipykernel_19804/2474202550.py:2: ExperimentalWarning: plot_param_importances is experimental (supported from v2.2.0). The interface can change in the future.\n",
      "  optuna.visualization.matplotlib.plot_param_importances(study);\n"
     ]
    },
    {
     "data": {
      "image/png": "[encoded data removed]",
      "text/plain": [
       "<Figure size 432x288 with 1 Axes>"
      ]
     },
     "metadata": {},
     "output_type": "display_data"
    }
   ],
   "source": [
    "# Parameter importance\n",
    "optuna.visualization.matplotlib.plot_param_importances(study);"
   ]
  }
 ],
 "metadata": {
  "colab": {
   "collapsed_sections": [],
   "name": "Hyperparameter_optimization_CNN.ipynb",
   "provenance": [
    {
     "file_id": "1Cf5zIyQGPrgBM4VfG_yPcv1NmOdgvslt",
     "timestamp": 1633025512718
    }
   ]
  },
  "kernelspec": {
   "display_name": "Python 3 (ipykernel)",
   "language": "python",
   "name": "python3"
  },
  "language_info": {
   "codemirror_mode": {
    "name": "ipython",
    "version": 3
   },
   "file_extension": ".py",
   "mimetype": "text/x-python",
   "name": "python",
   "nbconvert_exporter": "python",
   "pygments_lexer": "ipython3",
   "version": "3.8.11"
  },
  "toc": {
   "base_numbering": 1,
   "nav_menu": {},
   "number_sections": true,
   "sideBar": true,
   "skip_h1_title": false,
   "title_cell": "Table of Contents",
   "title_sidebar": "Contents",
   "toc_cell": false,
   "toc_position": {
    "height": "calc(100% - 180px)",
    "left": "10px",
    "top": "150px",
    "width": "288.467px"
   },
   "toc_section_display": true,
   "toc_window_display": true
  }
 },
 "nbformat": 4,
 "nbformat_minor": 1
}
